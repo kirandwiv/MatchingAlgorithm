{
 "cells": [
  {
   "cell_type": "code",
   "execution_count": 1,
   "metadata": {},
   "outputs": [],
   "source": [
    "import os\n",
    "os.chdir('C:/Users/v-kirdwivedi/Documents/GitHub/MatchingAlgorithm/')"
   ]
  },
  {
   "cell_type": "code",
   "execution_count": 2,
   "metadata": {},
   "outputs": [],
   "source": [
    "import numpy as np\n",
    "import pandas as pd\n",
    "import networkx as nx\n",
    "import matplotlib.pyplot as plt\n",
    "import seaborn as sns\n",
    "from funcs import *\n",
    "from multi_funcs import *"
   ]
  },
  {
   "cell_type": "code",
   "execution_count": 3,
   "metadata": {},
   "outputs": [
    {
     "ename": "TypeError",
     "evalue": "make_df_cycles() missing 1 required positional argument: 'results'",
     "output_type": "error",
     "traceback": [
      "\u001b[1;31m---------------------------------------------------------------------------\u001b[0m",
      "\u001b[1;31mTypeError\u001b[0m                                 Traceback (most recent call last)",
      "\u001b[1;32mc:\\Users\\v-kirdwivedi\\Documents\\GitHub\\MatchingAlgorithm\\scrap\\adapting_networkx.ipynb Cell 3\u001b[0m line \u001b[0;36m2\n\u001b[0;32m      <a href='vscode-notebook-cell:/c%3A/Users/v-kirdwivedi/Documents/GitHub/MatchingAlgorithm/scrap/adapting_networkx.ipynb#X22sZmlsZQ%3D%3D?line=0'>1</a>\u001b[0m results \u001b[39m=\u001b[39m gs_f_simulate_nx(\u001b[39m100\u001b[39m, \u001b[39m10000\u001b[39m, \u001b[39m25\u001b[39m)\n\u001b[1;32m----> <a href='vscode-notebook-cell:/c%3A/Users/v-kirdwivedi/Documents/GitHub/MatchingAlgorithm/scrap/adapting_networkx.ipynb#X22sZmlsZQ%3D%3D?line=1'>2</a>\u001b[0m make_df_cycles(\u001b[39m10000\u001b[39;49m, \u001b[39m25\u001b[39;49m)\n",
      "\u001b[1;31mTypeError\u001b[0m: make_df_cycles() missing 1 required positional argument: 'results'"
     ]
    }
   ],
   "source": [
    "results = gs_f_simulate_nx(100, 10000, 25)\n",
    "make_df_cycles(10000, 25)\n"
   ]
  },
  {
   "cell_type": "code",
   "execution_count": 4,
   "metadata": {},
   "outputs": [
    {
     "data": {
      "text/html": [
       "<div>\n",
       "<style scoped>\n",
       "    .dataframe tbody tr th:only-of-type {\n",
       "        vertical-align: middle;\n",
       "    }\n",
       "\n",
       "    .dataframe tbody tr th {\n",
       "        vertical-align: top;\n",
       "    }\n",
       "\n",
       "    .dataframe thead th {\n",
       "        text-align: right;\n",
       "    }\n",
       "</style>\n",
       "<table border=\"1\" class=\"dataframe\">\n",
       "  <thead>\n",
       "    <tr style=\"text-align: right;\">\n",
       "      <th></th>\n",
       "      <th>n</th>\n",
       "      <th>k</th>\n",
       "      <th>n_cycles</th>\n",
       "      <th>n_agents_in_cycles</th>\n",
       "      <th>n_matches</th>\n",
       "      <th>percent_in_cycles</th>\n",
       "    </tr>\n",
       "  </thead>\n",
       "  <tbody>\n",
       "    <tr>\n",
       "      <th>0</th>\n",
       "      <td>10000</td>\n",
       "      <td>25</td>\n",
       "      <td>1</td>\n",
       "      <td>7313</td>\n",
       "      <td>9946</td>\n",
       "      <td>0.735270</td>\n",
       "    </tr>\n",
       "    <tr>\n",
       "      <th>1</th>\n",
       "      <td>10000</td>\n",
       "      <td>25</td>\n",
       "      <td>1</td>\n",
       "      <td>7278</td>\n",
       "      <td>9942</td>\n",
       "      <td>0.732046</td>\n",
       "    </tr>\n",
       "    <tr>\n",
       "      <th>2</th>\n",
       "      <td>10000</td>\n",
       "      <td>25</td>\n",
       "      <td>1</td>\n",
       "      <td>7248</td>\n",
       "      <td>9947</td>\n",
       "      <td>0.728662</td>\n",
       "    </tr>\n",
       "    <tr>\n",
       "      <th>3</th>\n",
       "      <td>10000</td>\n",
       "      <td>25</td>\n",
       "      <td>1</td>\n",
       "      <td>7246</td>\n",
       "      <td>9948</td>\n",
       "      <td>0.728388</td>\n",
       "    </tr>\n",
       "    <tr>\n",
       "      <th>4</th>\n",
       "      <td>10000</td>\n",
       "      <td>25</td>\n",
       "      <td>1</td>\n",
       "      <td>7555</td>\n",
       "      <td>9943</td>\n",
       "      <td>0.759831</td>\n",
       "    </tr>\n",
       "    <tr>\n",
       "      <th>...</th>\n",
       "      <td>...</td>\n",
       "      <td>...</td>\n",
       "      <td>...</td>\n",
       "      <td>...</td>\n",
       "      <td>...</td>\n",
       "      <td>...</td>\n",
       "    </tr>\n",
       "    <tr>\n",
       "      <th>95</th>\n",
       "      <td>10000</td>\n",
       "      <td>25</td>\n",
       "      <td>1</td>\n",
       "      <td>7405</td>\n",
       "      <td>9963</td>\n",
       "      <td>0.743250</td>\n",
       "    </tr>\n",
       "    <tr>\n",
       "      <th>96</th>\n",
       "      <td>10000</td>\n",
       "      <td>25</td>\n",
       "      <td>1</td>\n",
       "      <td>7353</td>\n",
       "      <td>9952</td>\n",
       "      <td>0.738846</td>\n",
       "    </tr>\n",
       "    <tr>\n",
       "      <th>97</th>\n",
       "      <td>10000</td>\n",
       "      <td>25</td>\n",
       "      <td>1</td>\n",
       "      <td>7511</td>\n",
       "      <td>9950</td>\n",
       "      <td>0.754874</td>\n",
       "    </tr>\n",
       "    <tr>\n",
       "      <th>98</th>\n",
       "      <td>10000</td>\n",
       "      <td>25</td>\n",
       "      <td>1</td>\n",
       "      <td>7444</td>\n",
       "      <td>9946</td>\n",
       "      <td>0.748442</td>\n",
       "    </tr>\n",
       "    <tr>\n",
       "      <th>99</th>\n",
       "      <td>10000</td>\n",
       "      <td>25</td>\n",
       "      <td>1</td>\n",
       "      <td>7574</td>\n",
       "      <td>9952</td>\n",
       "      <td>0.761053</td>\n",
       "    </tr>\n",
       "  </tbody>\n",
       "</table>\n",
       "<p>100 rows × 6 columns</p>\n",
       "</div>"
      ],
      "text/plain": [
       "        n   k  n_cycles  n_agents_in_cycles  n_matches  percent_in_cycles\n",
       "0   10000  25         1                7313       9946           0.735270\n",
       "1   10000  25         1                7278       9942           0.732046\n",
       "2   10000  25         1                7248       9947           0.728662\n",
       "3   10000  25         1                7246       9948           0.728388\n",
       "4   10000  25         1                7555       9943           0.759831\n",
       "..    ...  ..       ...                 ...        ...                ...\n",
       "95  10000  25         1                7405       9963           0.743250\n",
       "96  10000  25         1                7353       9952           0.738846\n",
       "97  10000  25         1                7511       9950           0.754874\n",
       "98  10000  25         1                7444       9946           0.748442\n",
       "99  10000  25         1                7574       9952           0.761053\n",
       "\n",
       "[100 rows x 6 columns]"
      ]
     },
     "execution_count": 4,
     "metadata": {},
     "output_type": "execute_result"
    }
   ],
   "source": [
    "make_df_cycles(10000, 25, results)"
   ]
  },
  {
   "cell_type": "code",
   "execution_count": null,
   "metadata": {},
   "outputs": [],
   "source": [
    "for k in np.arange(10, 110, 10):\n",
    "    for n in np.arange(100, 1100, 100):\n",
    "        results = gs_f_simulate_nx(100, n, k)\n",
    "        make_df_cycles(10000, k, results, save = True, path = 'data/simulations/small/')\n",
    "        print('n = ' + str(n) + ', k = ' + str(k) + ' done.')"
   ]
  },
  {
   "cell_type": "markdown",
   "metadata": {},
   "source": [
    "### Making Pretty Graphs"
   ]
  },
  {
   "cell_type": "code",
   "execution_count": 36,
   "metadata": {},
   "outputs": [],
   "source": [
    "preferences = mdf_np(1000, 3)\n",
    "x2 = preferences.copy()"
   ]
  },
  {
   "cell_type": "code",
   "execution_count": 37,
   "metadata": {},
   "outputs": [],
   "source": [
    "matches, _ = run_gale_shapley(x2, k=3)"
   ]
  },
  {
   "cell_type": "code",
   "execution_count": 39,
   "metadata": {},
   "outputs": [
    {
     "data": {
      "text/html": [
       "<div>\n",
       "<style scoped>\n",
       "    .dataframe tbody tr th:only-of-type {\n",
       "        vertical-align: middle;\n",
       "    }\n",
       "\n",
       "    .dataframe tbody tr th {\n",
       "        vertical-align: top;\n",
       "    }\n",
       "\n",
       "    .dataframe thead th {\n",
       "        text-align: right;\n",
       "    }\n",
       "</style>\n",
       "<table border=\"1\" class=\"dataframe\">\n",
       "  <thead>\n",
       "    <tr style=\"text-align: right;\">\n",
       "      <th></th>\n",
       "      <th>0</th>\n",
       "      <th>1</th>\n",
       "      <th>2</th>\n",
       "      <th>student_id</th>\n",
       "      <th>applications</th>\n",
       "      <th>k</th>\n",
       "      <th>matched</th>\n",
       "      <th>rank1</th>\n",
       "      <th>rank2</th>\n",
       "      <th>rank3</th>\n",
       "      <th>underdemanded</th>\n",
       "    </tr>\n",
       "  </thead>\n",
       "  <tbody>\n",
       "    <tr>\n",
       "      <th>0</th>\n",
       "      <td>101</td>\n",
       "      <td>942</td>\n",
       "      <td>996</td>\n",
       "      <td>0</td>\n",
       "      <td>0</td>\n",
       "      <td>1</td>\n",
       "      <td>False</td>\n",
       "      <td>0.889813</td>\n",
       "      <td>0.615590</td>\n",
       "      <td>0.685207</td>\n",
       "      <td>False</td>\n",
       "    </tr>\n",
       "    <tr>\n",
       "      <th>1</th>\n",
       "      <td>78</td>\n",
       "      <td>85</td>\n",
       "      <td>85</td>\n",
       "      <td>1</td>\n",
       "      <td>1</td>\n",
       "      <td>1</td>\n",
       "      <td>False</td>\n",
       "      <td>0.235858</td>\n",
       "      <td>0.952992</td>\n",
       "      <td>0.952992</td>\n",
       "      <td>True</td>\n",
       "    </tr>\n",
       "    <tr>\n",
       "      <th>2</th>\n",
       "      <td>935</td>\n",
       "      <td>574</td>\n",
       "      <td>574</td>\n",
       "      <td>2</td>\n",
       "      <td>1</td>\n",
       "      <td>1</td>\n",
       "      <td>False</td>\n",
       "      <td>0.883750</td>\n",
       "      <td>0.906583</td>\n",
       "      <td>0.906583</td>\n",
       "      <td>False</td>\n",
       "    </tr>\n",
       "    <tr>\n",
       "      <th>3</th>\n",
       "      <td>337</td>\n",
       "      <td>596</td>\n",
       "      <td>596</td>\n",
       "      <td>3</td>\n",
       "      <td>1</td>\n",
       "      <td>1</td>\n",
       "      <td>False</td>\n",
       "      <td>0.524839</td>\n",
       "      <td>0.504763</td>\n",
       "      <td>0.504763</td>\n",
       "      <td>False</td>\n",
       "    </tr>\n",
       "    <tr>\n",
       "      <th>4</th>\n",
       "      <td>351</td>\n",
       "      <td>351</td>\n",
       "      <td>351</td>\n",
       "      <td>4</td>\n",
       "      <td>2</td>\n",
       "      <td>1</td>\n",
       "      <td>False</td>\n",
       "      <td>0.981418</td>\n",
       "      <td>0.981418</td>\n",
       "      <td>0.981418</td>\n",
       "      <td>False</td>\n",
       "    </tr>\n",
       "    <tr>\n",
       "      <th>...</th>\n",
       "      <td>...</td>\n",
       "      <td>...</td>\n",
       "      <td>...</td>\n",
       "      <td>...</td>\n",
       "      <td>...</td>\n",
       "      <td>...</td>\n",
       "      <td>...</td>\n",
       "      <td>...</td>\n",
       "      <td>...</td>\n",
       "      <td>...</td>\n",
       "      <td>...</td>\n",
       "    </tr>\n",
       "    <tr>\n",
       "      <th>845</th>\n",
       "      <td>597</td>\n",
       "      <td>597</td>\n",
       "      <td>597</td>\n",
       "      <td>995</td>\n",
       "      <td>2</td>\n",
       "      <td>1</td>\n",
       "      <td>False</td>\n",
       "      <td>0.633817</td>\n",
       "      <td>0.633817</td>\n",
       "      <td>0.633817</td>\n",
       "      <td>False</td>\n",
       "    </tr>\n",
       "    <tr>\n",
       "      <th>846</th>\n",
       "      <td>204</td>\n",
       "      <td>329</td>\n",
       "      <td>329</td>\n",
       "      <td>996</td>\n",
       "      <td>1</td>\n",
       "      <td>1</td>\n",
       "      <td>False</td>\n",
       "      <td>0.706148</td>\n",
       "      <td>0.965044</td>\n",
       "      <td>0.965044</td>\n",
       "      <td>True</td>\n",
       "    </tr>\n",
       "    <tr>\n",
       "      <th>847</th>\n",
       "      <td>530</td>\n",
       "      <td>530</td>\n",
       "      <td>530</td>\n",
       "      <td>997</td>\n",
       "      <td>2</td>\n",
       "      <td>1</td>\n",
       "      <td>False</td>\n",
       "      <td>0.489072</td>\n",
       "      <td>0.489072</td>\n",
       "      <td>0.489072</td>\n",
       "      <td>True</td>\n",
       "    </tr>\n",
       "    <tr>\n",
       "      <th>848</th>\n",
       "      <td>287</td>\n",
       "      <td>968</td>\n",
       "      <td>949</td>\n",
       "      <td>998</td>\n",
       "      <td>0</td>\n",
       "      <td>1</td>\n",
       "      <td>False</td>\n",
       "      <td>0.851198</td>\n",
       "      <td>0.845984</td>\n",
       "      <td>0.211102</td>\n",
       "      <td>False</td>\n",
       "    </tr>\n",
       "    <tr>\n",
       "      <th>849</th>\n",
       "      <td>296</td>\n",
       "      <td>81</td>\n",
       "      <td>95</td>\n",
       "      <td>999</td>\n",
       "      <td>0</td>\n",
       "      <td>1</td>\n",
       "      <td>False</td>\n",
       "      <td>0.943296</td>\n",
       "      <td>0.491497</td>\n",
       "      <td>0.776317</td>\n",
       "      <td>False</td>\n",
       "    </tr>\n",
       "  </tbody>\n",
       "</table>\n",
       "<p>850 rows × 11 columns</p>\n",
       "</div>"
      ],
      "text/plain": [
       "       0    1    2  student_id  applications  k  matched     rank1     rank2  \\\n",
       "0    101  942  996           0             0  1    False  0.889813  0.615590   \n",
       "1     78   85   85           1             1  1    False  0.235858  0.952992   \n",
       "2    935  574  574           2             1  1    False  0.883750  0.906583   \n",
       "3    337  596  596           3             1  1    False  0.524839  0.504763   \n",
       "4    351  351  351           4             2  1    False  0.981418  0.981418   \n",
       "..   ...  ...  ...         ...           ... ..      ...       ...       ...   \n",
       "845  597  597  597         995             2  1    False  0.633817  0.633817   \n",
       "846  204  329  329         996             1  1    False  0.706148  0.965044   \n",
       "847  530  530  530         997             2  1    False  0.489072  0.489072   \n",
       "848  287  968  949         998             0  1    False  0.851198  0.845984   \n",
       "849  296   81   95         999             0  1    False  0.943296  0.491497   \n",
       "\n",
       "        rank3  underdemanded  \n",
       "0    0.685207          False  \n",
       "1    0.952992           True  \n",
       "2    0.906583          False  \n",
       "3    0.504763          False  \n",
       "4    0.981418          False  \n",
       "..        ...            ...  \n",
       "845  0.633817          False  \n",
       "846  0.965044           True  \n",
       "847  0.489072           True  \n",
       "848  0.211102          False  \n",
       "849  0.776317          False  \n",
       "\n",
       "[850 rows x 11 columns]"
      ]
     },
     "execution_count": 39,
     "metadata": {},
     "output_type": "execute_result"
    }
   ],
   "source": [
    "matches"
   ]
  },
  {
   "cell_type": "code",
   "execution_count": 40,
   "metadata": {},
   "outputs": [],
   "source": [
    "edgelist = to_netword_df(preferences, matches, 3)"
   ]
  },
  {
   "cell_type": "code",
   "execution_count": 41,
   "metadata": {},
   "outputs": [
    {
     "data": {
      "text/html": [
       "<div>\n",
       "<style scoped>\n",
       "    .dataframe tbody tr th:only-of-type {\n",
       "        vertical-align: middle;\n",
       "    }\n",
       "\n",
       "    .dataframe tbody tr th {\n",
       "        vertical-align: top;\n",
       "    }\n",
       "\n",
       "    .dataframe thead th {\n",
       "        text-align: right;\n",
       "    }\n",
       "</style>\n",
       "<table border=\"1\" class=\"dataframe\">\n",
       "  <thead>\n",
       "    <tr style=\"text-align: right;\">\n",
       "      <th></th>\n",
       "      <th>new_id_x</th>\n",
       "      <th>new_id_y</th>\n",
       "    </tr>\n",
       "  </thead>\n",
       "  <tbody>\n",
       "    <tr>\n",
       "      <th>0</th>\n",
       "      <td>0</td>\n",
       "      <td>216</td>\n",
       "    </tr>\n",
       "    <tr>\n",
       "      <th>1</th>\n",
       "      <td>1</td>\n",
       "      <td>28</td>\n",
       "    </tr>\n",
       "    <tr>\n",
       "      <th>2</th>\n",
       "      <td>2</td>\n",
       "      <td>217</td>\n",
       "    </tr>\n",
       "    <tr>\n",
       "      <th>3</th>\n",
       "      <td>3</td>\n",
       "      <td>99</td>\n",
       "    </tr>\n",
       "    <tr>\n",
       "      <th>4</th>\n",
       "      <td>4</td>\n",
       "      <td>218</td>\n",
       "    </tr>\n",
       "    <tr>\n",
       "      <th>...</th>\n",
       "      <td>...</td>\n",
       "      <td>...</td>\n",
       "    </tr>\n",
       "    <tr>\n",
       "      <th>238</th>\n",
       "      <td>211</td>\n",
       "      <td>150</td>\n",
       "    </tr>\n",
       "    <tr>\n",
       "      <th>239</th>\n",
       "      <td>212</td>\n",
       "      <td>59</td>\n",
       "    </tr>\n",
       "    <tr>\n",
       "      <th>240</th>\n",
       "      <td>213</td>\n",
       "      <td>300</td>\n",
       "    </tr>\n",
       "    <tr>\n",
       "      <th>241</th>\n",
       "      <td>214</td>\n",
       "      <td>49</td>\n",
       "    </tr>\n",
       "    <tr>\n",
       "      <th>242</th>\n",
       "      <td>215</td>\n",
       "      <td>301</td>\n",
       "    </tr>\n",
       "  </tbody>\n",
       "</table>\n",
       "<p>243 rows × 2 columns</p>\n",
       "</div>"
      ],
      "text/plain": [
       "     new_id_x  new_id_y\n",
       "0           0       216\n",
       "1           1        28\n",
       "2           2       217\n",
       "3           3        99\n",
       "4           4       218\n",
       "..        ...       ...\n",
       "238       211       150\n",
       "239       212        59\n",
       "240       213       300\n",
       "241       214        49\n",
       "242       215       301\n",
       "\n",
       "[243 rows x 2 columns]"
      ]
     },
     "execution_count": 41,
     "metadata": {},
     "output_type": "execute_result"
    }
   ],
   "source": [
    "edgelist"
   ]
  },
  {
   "cell_type": "code",
   "execution_count": 48,
   "metadata": {},
   "outputs": [],
   "source": [
    "G= nx.from_pandas_edgelist(edgelist, source = 'new_id_x', target = 'new_id_y', create_using=nx.DiGraph())"
   ]
  },
  {
   "cell_type": "code",
   "execution_count": 49,
   "metadata": {},
   "outputs": [
    {
     "data": {
      "text/plain": [
       "<generator object strongly_connected_components at 0x0000026B25484F20>"
      ]
     },
     "execution_count": 49,
     "metadata": {},
     "output_type": "execute_result"
    }
   ],
   "source": [
    "nx.strongly_connected_components(G)"
   ]
  },
  {
   "cell_type": "code",
   "execution_count": 55,
   "metadata": {},
   "outputs": [
    {
     "name": "stdout",
     "output_type": "stream",
     "text": [
      "{178, 142}\n"
     ]
    }
   ],
   "source": [
    "for cc in nx.strongly_connected_components(G):\n",
    "    if len(cc)>1:\n",
    "        print(cc)"
   ]
  },
  {
   "cell_type": "code",
   "execution_count": 80,
   "metadata": {},
   "outputs": [],
   "source": [
    "def get_strongly_connected_components(G):\n",
    "    scc = []\n",
    "    n_in_scc = 0\n",
    "    n_scc = 0\n",
    "    for cc in nx.strongly_connected_components(G):\n",
    "        if len(cc)>1:\n",
    "           scc.append(list(cc))\n",
    "           n_in_scc += len(cc)\n",
    "           n_scc += 1\n",
    "    return scc, n_in_scc, n_scc\n",
    "            "
   ]
  },
  {
   "cell_type": "code",
   "execution_count": 81,
   "metadata": {},
   "outputs": [
    {
     "data": {
      "text/plain": [
       "([[178, 142]], 2, 1)"
      ]
     },
     "execution_count": 81,
     "metadata": {},
     "output_type": "execute_result"
    }
   ],
   "source": [
    "get_strongly_connected_components(G)"
   ]
  },
  {
   "cell_type": "code",
   "execution_count": 56,
   "metadata": {},
   "outputs": [
    {
     "data": {
      "text/plain": [
       "(     new_id_x  new_id_y\n",
       " 0           0       216\n",
       " 1           1        28\n",
       " 2           2       217\n",
       " 3           3        99\n",
       " 4           4       218\n",
       " ..        ...       ...\n",
       " 238       211       150\n",
       " 239       212        59\n",
       " 240       213       300\n",
       " 241       214        49\n",
       " 242       215       301\n",
       " \n",
       " [243 rows x 2 columns],\n",
       " 1,\n",
       " [[178, 142]])"
      ]
     },
     "execution_count": 56,
     "metadata": {},
     "output_type": "execute_result"
    }
   ],
   "source": [
    "find_cycles(preferences, matches, 3)"
   ]
  },
  {
   "cell_type": "code",
   "execution_count": 53,
   "metadata": {},
   "outputs": [
    {
     "data": {
      "image/png": "[encoded data removed]",
      "text/plain": [
       "<Figure size 640x480 with 1 Axes>"
      ]
     },
     "metadata": {},
     "output_type": "display_data"
    }
   ],
   "source": [
    "node_sizes = [3 for i in range(len(G))]\n",
    "M = G.number_of_edges()\n",
    "edge_alphas = [(5 + i) / (M + 4) for i in range(M)]\n",
    "cmap = plt.cm.plasma\n",
    "pos = nx.spring_layout(G)\n",
    "nodes = nx.draw_networkx_nodes(G, pos, node_size=node_sizes, node_color=\"indigo\")\n",
    "edges = nx.draw_networkx_edges(\n",
    "    G,\n",
    "    pos,\n",
    "    node_size=node_sizes,\n",
    "    arrows=True,\n",
    "    arrowstyle=\"->\",\n",
    "    arrowsize=1,\n",
    "    edge_color='black',\n",
    "    edge_cmap=cmap,\n",
    "    width=1,\n",
    ")\n",
    "plt.show()"
   ]
  },
  {
   "cell_type": "code",
   "execution_count": null,
   "metadata": {},
   "outputs": [],
   "source": []
  }
 ],
 "metadata": {
  "kernelspec": {
   "display_name": "CatchALL_20231003",
   "language": "python",
   "name": "python3"
  },
  "language_info": {
   "codemirror_mode": {
    "name": "ipython",
    "version": 3
   },
   "file_extension": ".py",
   "mimetype": "text/x-python",
   "name": "python",
   "nbconvert_exporter": "python",
   "pygments_lexer": "ipython3",
   "version": "3.10.12"
  }
 },
 "nbformat": 4,
 "nbformat_minor": 2
}
