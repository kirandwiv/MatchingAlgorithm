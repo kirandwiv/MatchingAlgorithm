{
 "cells": [
  {
   "cell_type": "markdown",
   "metadata": {},
   "source": [
    "### Fraction Improved under EADAM (across n for various k)\n",
    "\n",
    "Here we look at what fraction of people improved under EADAM for various n, k. "
   ]
  },
  {
   "cell_type": "code",
   "execution_count": 1,
   "metadata": {},
   "outputs": [],
   "source": [
    "import pandas as pd\n",
    "import numpy as np\n",
    "import matplotlib.pyplot as plt\n",
    "import seaborn as sns\n",
    "import os\n",
    "os.chdir(r'C:\\Users\\v-kirdwivedi\\Documents\\GitHub\\MatchingAlgorithm')"
   ]
  },
  {
   "cell_type": "code",
   "execution_count": 2,
   "metadata": {},
   "outputs": [],
   "source": [
    "def get_data():\n",
    "    df = pd.DataFrame()\n",
    "\n",
    "    for n in [1000, 2000, 3000, 4000]:\n",
    "        for k in [3,4, 5, 6]:\n",
    "            df = pd.concat([df, pd.read_csv('data/simulations/max_length_matches_w_eadam/n_{}_k_{}_max_diff_eadam.csv'.format(n,k))])\n",
    "            df['fraction_improved'] = df['n_changes_eadam']/df['n_matches']\n",
    "    return df\n"
   ]
  },
  {
   "cell_type": "code",
   "execution_count": 3,
   "metadata": {},
   "outputs": [
    {
     "data": {
      "text/html": [
       "<div>\n",
       "<style scoped>\n",
       "    .dataframe tbody tr th:only-of-type {\n",
       "        vertical-align: middle;\n",
       "    }\n",
       "\n",
       "    .dataframe tbody tr th {\n",
       "        vertical-align: top;\n",
       "    }\n",
       "\n",
       "    .dataframe thead th {\n",
       "        text-align: right;\n",
       "    }\n",
       "</style>\n",
       "<table border=\"1\" class=\"dataframe\">\n",
       "  <thead>\n",
       "    <tr style=\"text-align: right;\">\n",
       "      <th></th>\n",
       "      <th>Unnamed: 0</th>\n",
       "      <th>n</th>\n",
       "      <th>k</th>\n",
       "      <th>n_changes_eadam</th>\n",
       "      <th>n_matches</th>\n",
       "      <th>fraction_improved</th>\n",
       "    </tr>\n",
       "  </thead>\n",
       "  <tbody>\n",
       "    <tr>\n",
       "      <th>0</th>\n",
       "      <td>0</td>\n",
       "      <td>1000</td>\n",
       "      <td>3</td>\n",
       "      <td>8</td>\n",
       "      <td>848</td>\n",
       "      <td>0.009434</td>\n",
       "    </tr>\n",
       "    <tr>\n",
       "      <th>1</th>\n",
       "      <td>1</td>\n",
       "      <td>1000</td>\n",
       "      <td>3</td>\n",
       "      <td>0</td>\n",
       "      <td>838</td>\n",
       "      <td>0.000000</td>\n",
       "    </tr>\n",
       "    <tr>\n",
       "      <th>2</th>\n",
       "      <td>2</td>\n",
       "      <td>1000</td>\n",
       "      <td>3</td>\n",
       "      <td>4</td>\n",
       "      <td>827</td>\n",
       "      <td>0.004837</td>\n",
       "    </tr>\n",
       "    <tr>\n",
       "      <th>3</th>\n",
       "      <td>3</td>\n",
       "      <td>1000</td>\n",
       "      <td>3</td>\n",
       "      <td>0</td>\n",
       "      <td>853</td>\n",
       "      <td>0.000000</td>\n",
       "    </tr>\n",
       "    <tr>\n",
       "      <th>4</th>\n",
       "      <td>4</td>\n",
       "      <td>1000</td>\n",
       "      <td>3</td>\n",
       "      <td>0</td>\n",
       "      <td>831</td>\n",
       "      <td>0.000000</td>\n",
       "    </tr>\n",
       "    <tr>\n",
       "      <th>...</th>\n",
       "      <td>...</td>\n",
       "      <td>...</td>\n",
       "      <td>...</td>\n",
       "      <td>...</td>\n",
       "      <td>...</td>\n",
       "      <td>...</td>\n",
       "    </tr>\n",
       "    <tr>\n",
       "      <th>9995</th>\n",
       "      <td>9995</td>\n",
       "      <td>4000</td>\n",
       "      <td>6</td>\n",
       "      <td>258</td>\n",
       "      <td>3705</td>\n",
       "      <td>0.069636</td>\n",
       "    </tr>\n",
       "    <tr>\n",
       "      <th>9996</th>\n",
       "      <td>9996</td>\n",
       "      <td>4000</td>\n",
       "      <td>6</td>\n",
       "      <td>336</td>\n",
       "      <td>3708</td>\n",
       "      <td>0.090615</td>\n",
       "    </tr>\n",
       "    <tr>\n",
       "      <th>9997</th>\n",
       "      <td>9997</td>\n",
       "      <td>4000</td>\n",
       "      <td>6</td>\n",
       "      <td>462</td>\n",
       "      <td>3710</td>\n",
       "      <td>0.124528</td>\n",
       "    </tr>\n",
       "    <tr>\n",
       "      <th>9998</th>\n",
       "      <td>9998</td>\n",
       "      <td>4000</td>\n",
       "      <td>6</td>\n",
       "      <td>246</td>\n",
       "      <td>3721</td>\n",
       "      <td>0.066111</td>\n",
       "    </tr>\n",
       "    <tr>\n",
       "      <th>9999</th>\n",
       "      <td>9999</td>\n",
       "      <td>4000</td>\n",
       "      <td>6</td>\n",
       "      <td>474</td>\n",
       "      <td>3729</td>\n",
       "      <td>0.127112</td>\n",
       "    </tr>\n",
       "  </tbody>\n",
       "</table>\n",
       "<p>160000 rows × 6 columns</p>\n",
       "</div>"
      ],
      "text/plain": [
       "      Unnamed: 0     n  k  n_changes_eadam  n_matches  fraction_improved\n",
       "0              0  1000  3                8        848           0.009434\n",
       "1              1  1000  3                0        838           0.000000\n",
       "2              2  1000  3                4        827           0.004837\n",
       "3              3  1000  3                0        853           0.000000\n",
       "4              4  1000  3                0        831           0.000000\n",
       "...          ...   ... ..              ...        ...                ...\n",
       "9995        9995  4000  6              258       3705           0.069636\n",
       "9996        9996  4000  6              336       3708           0.090615\n",
       "9997        9997  4000  6              462       3710           0.124528\n",
       "9998        9998  4000  6              246       3721           0.066111\n",
       "9999        9999  4000  6              474       3729           0.127112\n",
       "\n",
       "[160000 rows x 6 columns]"
      ]
     },
     "execution_count": 3,
     "metadata": {},
     "output_type": "execute_result"
    }
   ],
   "source": [
    "get_data()"
   ]
  },
  {
   "cell_type": "code",
   "execution_count": 4,
   "metadata": {},
   "outputs": [
    {
     "data": {
      "text/plain": [
       "<Axes: xlabel='n', ylabel='fraction_improved'>"
      ]
     },
     "execution_count": 4,
     "metadata": {},
     "output_type": "execute_result"
    },
    {
     "data": {
      "image/png": "[encoded data removed]",
      "text/plain": [
       "<Figure size 640x480 with 1 Axes>"
      ]
     },
     "metadata": {},
     "output_type": "display_data"
    }
   ],
   "source": [
    "sns.lineplot(x='n', y='fraction_improved', hue='k', data=get_data())"
   ]
  },
  {
   "cell_type": "code",
   "execution_count": null,
   "metadata": {},
   "outputs": [],
   "source": []
  }
 ],
 "metadata": {
  "kernelspec": {
   "display_name": "CatchALL",
   "language": "python",
   "name": "python3"
  },
  "language_info": {
   "codemirror_mode": {
    "name": "ipython",
    "version": 3
   },
   "file_extension": ".py",
   "mimetype": "text/x-python",
   "name": "python",
   "nbconvert_exporter": "python",
   "pygments_lexer": "ipython3",
   "version": "3.10.12"
  }
 },
 "nbformat": 4,
 "nbformat_minor": 2
}
