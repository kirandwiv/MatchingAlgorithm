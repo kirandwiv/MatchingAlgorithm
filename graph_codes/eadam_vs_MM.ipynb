{
 "cells": [
  {
   "cell_type": "markdown",
   "metadata": {},
   "source": [
    "### Graph Name: Fraction Difference between EADAM and GS\n",
    "### Description:\n",
    "This graph gives the average number of changes between GS and EADAM for various n, k. The average is taken over 100 trials. The fraction difference is defined as the number of changes across the two sets of matchings divided by the number of matches. \n"
   ]
  },
  {
   "cell_type": "markdown",
   "metadata": {},
   "source": [
    "#### Simulation Code: \n",
    "Should only run this if you want to generate new data. Otherwise, skip to the next section to load the data. If you do, just uncomment section below. "
   ]
  },
  {
   "cell_type": "markdown",
   "metadata": {},
   "source": []
  }
 ],
 "metadata": {
  "language_info": {
   "name": "python"
  }
 },
 "nbformat": 4,
 "nbformat_minor": 2
}
