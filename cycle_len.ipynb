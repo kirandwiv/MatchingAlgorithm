{
 "cells": [
  {
   "cell_type": "markdown",
   "metadata": {},
   "source": [
    "Here we are going to work on a draft for a function that takes as inputs two lists of matches. The original GS matches and the max_matches and looks at how long the cycles are. "
   ]
  },
  {
   "cell_type": "code",
   "execution_count": 1,
   "metadata": {},
   "outputs": [],
   "source": [
    "from multi_funcs import *\n",
    "from funcs import *\n",
    "from tarjan_alg import *"
   ]
  },
  {
   "cell_type": "code",
   "execution_count": 64,
   "metadata": {},
   "outputs": [],
   "source": [
    "preferences = mdf_np(1000, 10)\n",
    "preferences2 = preferences.copy()\n",
    "matches, _ = run_gale_shapley(preferences2, k=10)\n",
    "mwm, _,x1,x2 = get_max_weight_matching(preferences, matches, 1000,10)"
   ]
  },
  {
   "cell_type": "code",
   "execution_count": 65,
   "metadata": {},
   "outputs": [],
   "source": [
    "original_match = dict(x1)"
   ]
  },
  {
   "cell_type": "code",
   "execution_count": 66,
   "metadata": {},
   "outputs": [],
   "source": [
    "difference = dict(x2.difference(x1))\n",
    "difference = {difference[i]:i for i in difference}"
   ]
  },
  {
   "cell_type": "code",
   "execution_count": 67,
   "metadata": {},
   "outputs": [],
   "source": [
    "explored = []\n",
    "unexplored = list(difference.keys())\n",
    "cycle_lengths = []\n",
    "cycles = []\n",
    "\n",
    "while len(unexplored) != 0:\n",
    "    current_node = unexplored[0]\n",
    "    current_cycle = []\n",
    "    while current_node not in current_cycle:\n",
    "        current_cycle.append(current_node)\n",
    "        explored.append(current_node)\n",
    "        unexplored.remove(current_node)\n",
    "        matched_school = difference[current_node]\n",
    "        current_node = original_match[matched_school]\n",
    "    cycle_lengths.append(len(current_cycle))\n",
    "    cycles.append(current_cycle)"
   ]
  },
  {
   "cell_type": "code",
   "execution_count": 68,
   "metadata": {},
   "outputs": [
    {
     "data": {
      "text/plain": [
       "[255, 9, 31, 4, 16]"
      ]
     },
     "execution_count": 68,
     "metadata": {},
     "output_type": "execute_result"
    }
   ],
   "source": [
    "cycle_lengths"
   ]
  },
  {
   "cell_type": "code",
   "execution_count": 71,
   "metadata": {},
   "outputs": [],
   "source": [
    "def len_cycles(x1, x2):\n",
    "    '''\n",
    "    This function takes as inputs the results from the Gale-Shapley and the Max Matching and returns the length of the implied cycles,\n",
    "    as well as the cycles themselves. \n",
    "    '''\n",
    "    original_match = dict(x1)\n",
    "    difference = dict(x2.difference(x1))\n",
    "    difference = {difference[i]:i for i in difference} # reverse the dictionary for ease of use\n",
    "    \n",
    "    explored = [] # initiate list of explored nodes\n",
    "    unexplored = list(difference.keys()) # initiate list of unexplored nodes\n",
    "    cycle_lengths = [] # initiate list of cycle lengths\n",
    "    cycles = [] # initiate list of cycles\n",
    "\n",
    "    while len(unexplored) != 0:\n",
    "        current_node = unexplored[0] # start with first unexplored node \n",
    "        current_cycle = [] # initiate list of nodes in current cycle\n",
    "        while current_node not in current_cycle: # condition is that we've not already visited this node\n",
    "            current_cycle.append(current_node) # add the current node to our current cycle\n",
    "            explored.append(current_node) # add the current node to our list of explored nodes\n",
    "            unexplored.remove(current_node) # remove the current node from our list of unexplored nodes\n",
    "            matched_school = difference[current_node] # find the school that the current node is matched to\n",
    "            current_node = original_match[matched_school] # find the student that the school was matched to originally. Then repeat with that node.\n",
    "        cycle_lengths.append(len(current_cycle))  # once we've found a cycle, add the length of the cycle to our list of cycle lengths\n",
    "        cycles.append(current_cycle) # once we've found a cycle, add the cycle to our list of cycles\n",
    "\n",
    "    return cycle_lengths, cycles\n",
    "        "
   ]
  },
  {
   "cell_type": "markdown",
   "metadata": {},
   "source": [
    "Now I just need a to create some histograms. Maybe with some bins etc... "
   ]
  },
  {
   "cell_type": "markdown",
   "metadata": {},
   "source": [
    "I guess we could just make one mega list of these things? so like keep getting the results, then appending them. Then we would do the histogram. "
   ]
  },
  {
   "cell_type": "code",
   "execution_count": 48,
   "metadata": {},
   "outputs": [],
   "source": [
    "results = gs_f_simulate_nx_max(5000, 1000, 10)"
   ]
  },
  {
   "cell_type": "code",
   "execution_count": 49,
   "metadata": {},
   "outputs": [],
   "source": [
    "df = make_df_max_match_length(1000, 10, results)"
   ]
  },
  {
   "cell_type": "code",
   "execution_count": 50,
   "metadata": {},
   "outputs": [],
   "source": [
    "df = df.groupby('cycle_lengths', as_index=False).count()"
   ]
  },
  {
   "cell_type": "code",
   "execution_count": 51,
   "metadata": {},
   "outputs": [],
   "source": [
    "df['n_agents_in_cycle_of_size_x'] = df['cycle_lengths'] * df['n']"
   ]
  },
  {
   "cell_type": "code",
   "execution_count": 13,
   "metadata": {},
   "outputs": [],
   "source": [
    "import seaborn as sns\n",
    "import matplotlib.pyplot as plt"
   ]
  },
  {
   "cell_type": "code",
   "execution_count": 53,
   "metadata": {},
   "outputs": [
    {
     "data": {
      "text/plain": [
       "<Axes: xlabel='cycle_lengths', ylabel='Count'>"
      ]
     },
     "execution_count": 53,
     "metadata": {},
     "output_type": "execute_result"
    },
    {
     "data": {
      "image/png": "[encoded data removed]",
      "text/plain": [
       "<Figure size 640x480 with 1 Axes>"
      ]
     },
     "metadata": {},
     "output_type": "display_data"
    }
   ],
   "source": [
    "sns.histplot(df, x=\"cycle_lengths\", weights='n_agents_in_cycle_of_size_x', binwidth=10, kde=False)"
   ]
  },
  {
   "cell_type": "code",
   "execution_count": 2,
   "metadata": {},
   "outputs": [],
   "source": [
    "ks = [4,6,8]\n",
    "for k in ks:\n",
    "    results = gs_f_simulate_nx_max_lengths(10000, 1000, k)\n",
    "    df = make_df_max_match_length(1000, k, results, save=True)"
   ]
  },
  {
   "cell_type": "code",
   "execution_count": 5,
   "metadata": {},
   "outputs": [
    {
     "data": {
      "text/plain": [
       "'c:\\\\Users\\\\v-kirdwivedi\\\\Documents\\\\GitHub\\\\MatchingAlgorithm'"
      ]
     },
     "execution_count": 5,
     "metadata": {},
     "output_type": "execute_result"
    }
   ],
   "source": [
    "import os\n",
    "os.getcwd()"
   ]
  },
  {
   "cell_type": "code",
   "execution_count": 50,
   "metadata": {},
   "outputs": [],
   "source": [
    "df = pd.read_csv('data/simulations/max_matches_1000_4_6_8/n_1000_k_8_max_diff.csv')"
   ]
  },
  {
   "cell_type": "code",
   "execution_count": 51,
   "metadata": {},
   "outputs": [
    {
     "data": {
      "text/html": [
       "<div>\n",
       "<style scoped>\n",
       "    .dataframe tbody tr th:only-of-type {\n",
       "        vertical-align: middle;\n",
       "    }\n",
       "\n",
       "    .dataframe tbody tr th {\n",
       "        vertical-align: top;\n",
       "    }\n",
       "\n",
       "    .dataframe thead th {\n",
       "        text-align: right;\n",
       "    }\n",
       "</style>\n",
       "<table border=\"1\" class=\"dataframe\">\n",
       "  <thead>\n",
       "    <tr style=\"text-align: right;\">\n",
       "      <th></th>\n",
       "      <th>Unnamed: 0</th>\n",
       "      <th>n</th>\n",
       "      <th>k</th>\n",
       "      <th>n_changes</th>\n",
       "      <th>n_matches</th>\n",
       "      <th>percent_changed</th>\n",
       "    </tr>\n",
       "  </thead>\n",
       "  <tbody>\n",
       "    <tr>\n",
       "      <th>0</th>\n",
       "      <td>0</td>\n",
       "      <td>1000</td>\n",
       "      <td>8</td>\n",
       "      <td>217</td>\n",
       "      <td>961</td>\n",
       "      <td>0.225806</td>\n",
       "    </tr>\n",
       "    <tr>\n",
       "      <th>1</th>\n",
       "      <td>1</td>\n",
       "      <td>1000</td>\n",
       "      <td>8</td>\n",
       "      <td>160</td>\n",
       "      <td>951</td>\n",
       "      <td>0.168244</td>\n",
       "    </tr>\n",
       "    <tr>\n",
       "      <th>2</th>\n",
       "      <td>2</td>\n",
       "      <td>1000</td>\n",
       "      <td>8</td>\n",
       "      <td>198</td>\n",
       "      <td>950</td>\n",
       "      <td>0.208421</td>\n",
       "    </tr>\n",
       "    <tr>\n",
       "      <th>3</th>\n",
       "      <td>3</td>\n",
       "      <td>1000</td>\n",
       "      <td>8</td>\n",
       "      <td>228</td>\n",
       "      <td>960</td>\n",
       "      <td>0.237500</td>\n",
       "    </tr>\n",
       "    <tr>\n",
       "      <th>4</th>\n",
       "      <td>4</td>\n",
       "      <td>1000</td>\n",
       "      <td>8</td>\n",
       "      <td>205</td>\n",
       "      <td>953</td>\n",
       "      <td>0.215110</td>\n",
       "    </tr>\n",
       "    <tr>\n",
       "      <th>...</th>\n",
       "      <td>...</td>\n",
       "      <td>...</td>\n",
       "      <td>...</td>\n",
       "      <td>...</td>\n",
       "      <td>...</td>\n",
       "      <td>...</td>\n",
       "    </tr>\n",
       "    <tr>\n",
       "      <th>9995</th>\n",
       "      <td>9995</td>\n",
       "      <td>1000</td>\n",
       "      <td>8</td>\n",
       "      <td>210</td>\n",
       "      <td>948</td>\n",
       "      <td>0.221519</td>\n",
       "    </tr>\n",
       "    <tr>\n",
       "      <th>9996</th>\n",
       "      <td>9996</td>\n",
       "      <td>1000</td>\n",
       "      <td>8</td>\n",
       "      <td>193</td>\n",
       "      <td>943</td>\n",
       "      <td>0.204666</td>\n",
       "    </tr>\n",
       "    <tr>\n",
       "      <th>9997</th>\n",
       "      <td>9997</td>\n",
       "      <td>1000</td>\n",
       "      <td>8</td>\n",
       "      <td>230</td>\n",
       "      <td>950</td>\n",
       "      <td>0.242105</td>\n",
       "    </tr>\n",
       "    <tr>\n",
       "      <th>9998</th>\n",
       "      <td>9998</td>\n",
       "      <td>1000</td>\n",
       "      <td>8</td>\n",
       "      <td>221</td>\n",
       "      <td>952</td>\n",
       "      <td>0.232143</td>\n",
       "    </tr>\n",
       "    <tr>\n",
       "      <th>9999</th>\n",
       "      <td>9999</td>\n",
       "      <td>1000</td>\n",
       "      <td>8</td>\n",
       "      <td>238</td>\n",
       "      <td>951</td>\n",
       "      <td>0.250263</td>\n",
       "    </tr>\n",
       "  </tbody>\n",
       "</table>\n",
       "<p>10000 rows × 6 columns</p>\n",
       "</div>"
      ],
      "text/plain": [
       "      Unnamed: 0     n  k  n_changes  n_matches  percent_changed\n",
       "0              0  1000  8        217        961         0.225806\n",
       "1              1  1000  8        160        951         0.168244\n",
       "2              2  1000  8        198        950         0.208421\n",
       "3              3  1000  8        228        960         0.237500\n",
       "4              4  1000  8        205        953         0.215110\n",
       "...          ...   ... ..        ...        ...              ...\n",
       "9995        9995  1000  8        210        948         0.221519\n",
       "9996        9996  1000  8        193        943         0.204666\n",
       "9997        9997  1000  8        230        950         0.242105\n",
       "9998        9998  1000  8        221        952         0.232143\n",
       "9999        9999  1000  8        238        951         0.250263\n",
       "\n",
       "[10000 rows x 6 columns]"
      ]
     },
     "execution_count": 51,
     "metadata": {},
     "output_type": "execute_result"
    }
   ],
   "source": [
    "df"
   ]
  },
  {
   "cell_type": "code",
   "execution_count": 30,
   "metadata": {},
   "outputs": [],
   "source": [
    "df = df.groupby('cycle_lengths', as_index=False).count()\n",
    "df['n_agents_in_cycle_of_size_x'] = df['cycle_lengths'] * df['n']"
   ]
  },
  {
   "cell_type": "code",
   "execution_count": 52,
   "metadata": {},
   "outputs": [
    {
     "data": {
      "text/plain": [
       "<Axes: xlabel='n_changes', ylabel='Count'>"
      ]
     },
     "execution_count": 52,
     "metadata": {},
     "output_type": "execute_result"
    },
    {
     "data": {
      "image/png": "[encoded data removed]",
      "text/plain": [
       "<Figure size 640x480 with 1 Axes>"
      ]
     },
     "metadata": {},
     "output_type": "display_data"
    }
   ],
   "source": [
    "sns.histplot(df, x=\"n_changes\", binwidth=5, kde=False)"
   ]
  },
  {
   "cell_type": "code",
   "execution_count": 32,
   "metadata": {},
   "outputs": [],
   "source": [
    "for k in ks:\n",
    "    results = gs_f_simulate_nx_max(10000, 1000, k)\n",
    "    df = make_df_max_match(1000, k, results, save=True)"
   ]
  },
  {
   "cell_type": "markdown",
   "metadata": {},
   "source": [
    "Now need to expand this to more n, k. Also need to start from EADAM before then progressing onto the max matching stuff. "
   ]
  }
 ],
 "metadata": {
  "kernelspec": {
   "display_name": "CatchALL_20231003",
   "language": "python",
   "name": "python3"
  },
  "language_info": {
   "codemirror_mode": {
    "name": "ipython",
    "version": 3
   },
   "file_extension": ".py",
   "mimetype": "text/x-python",
   "name": "python",
   "nbconvert_exporter": "python",
   "pygments_lexer": "ipython3",
   "version": "3.10.12"
  }
 },
 "nbformat": 4,
 "nbformat_minor": 2
}
