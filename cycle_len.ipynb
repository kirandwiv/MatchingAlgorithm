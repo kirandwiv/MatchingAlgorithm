{
 "cells": [
  {
   "cell_type": "markdown",
   "metadata": {},
   "source": [
    "Here we are going to work on a draft for a function that takes as inputs two lists of matches. The original GS matches and the max_matches and looks at how long the cycles are. "
   ]
  },
  {
   "cell_type": "code",
   "execution_count": 63,
   "metadata": {},
   "outputs": [],
   "source": [
    "from multi_funcs import *\n",
    "from funcs import *\n",
    "from tarjan_alg import *"
   ]
  },
  {
   "cell_type": "code",
   "execution_count": 64,
   "metadata": {},
   "outputs": [],
   "source": [
    "preferences = mdf_np(1000, 10)\n",
    "preferences2 = preferences.copy()\n",
    "matches, _ = run_gale_shapley(preferences2, k=10)\n",
    "mwm, _,x1,x2 = get_max_weight_matching(preferences, matches, 1000,10)"
   ]
  },
  {
   "cell_type": "code",
   "execution_count": 65,
   "metadata": {},
   "outputs": [],
   "source": [
    "original_match = dict(x1)"
   ]
  },
  {
   "cell_type": "code",
   "execution_count": 66,
   "metadata": {},
   "outputs": [],
   "source": [
    "difference = dict(x2.difference(x1))\n",
    "difference = {difference[i]:i for i in difference}"
   ]
  },
  {
   "cell_type": "code",
   "execution_count": 67,
   "metadata": {},
   "outputs": [],
   "source": [
    "explored = []\n",
    "unexplored = list(difference.keys())\n",
    "cycle_lengths = []\n",
    "cycles = []\n",
    "\n",
    "while len(unexplored) != 0:\n",
    "    current_node = unexplored[0]\n",
    "    current_cycle = []\n",
    "    while current_node not in current_cycle:\n",
    "        current_cycle.append(current_node)\n",
    "        explored.append(current_node)\n",
    "        unexplored.remove(current_node)\n",
    "        matched_school = difference[current_node]\n",
    "        current_node = original_match[matched_school]\n",
    "    cycle_lengths.append(len(current_cycle))\n",
    "    cycles.append(current_cycle)"
   ]
  },
  {
   "cell_type": "code",
   "execution_count": 68,
   "metadata": {},
   "outputs": [
    {
     "data": {
      "text/plain": [
       "[255, 9, 31, 4, 16]"
      ]
     },
     "execution_count": 68,
     "metadata": {},
     "output_type": "execute_result"
    }
   ],
   "source": [
    "cycle_lengths"
   ]
  },
  {
   "cell_type": "code",
   "execution_count": 71,
   "metadata": {},
   "outputs": [],
   "source": [
    "def len_cycles(x1, x2):\n",
    "    '''\n",
    "    This function takes as inputs the results from the Gale-Shapley and the Max Matching and returns the length of the implied cycles,\n",
    "    as well as the cycles themselves. \n",
    "    '''\n",
    "    original_match = dict(x1)\n",
    "    difference = dict(x2.difference(x1))\n",
    "    difference = {difference[i]:i for i in difference} # reverse the dictionary for ease of use\n",
    "    \n",
    "    explored = [] # initiate list of explored nodes\n",
    "    unexplored = list(difference.keys()) # initiate list of unexplored nodes\n",
    "    cycle_lengths = [] # initiate list of cycle lengths\n",
    "    cycles = [] # initiate list of cycles\n",
    "\n",
    "    while len(unexplored) != 0:\n",
    "        current_node = unexplored[0] # start with first unexplored node \n",
    "        current_cycle = [] # initiate list of nodes in current cycle\n",
    "        while current_node not in current_cycle: # condition is that we've not already visited this node\n",
    "            current_cycle.append(current_node) # add the current node to our current cycle\n",
    "            explored.append(current_node) # add the current node to our list of explored nodes\n",
    "            unexplored.remove(current_node) # remove the current node from our list of unexplored nodes\n",
    "            matched_school = difference[current_node] # find the school that the current node is matched to\n",
    "            current_node = original_match[matched_school] # find the student that the school was matched to originally. Then repeat with that node.\n",
    "        cycle_lengths.append(len(current_cycle))  # once we've found a cycle, add the length of the cycle to our list of cycle lengths\n",
    "        cycles.append(current_cycle) # once we've found a cycle, add the cycle to our list of cycles\n",
    "\n",
    "    return cycle_lengths, cycles\n",
    "        "
   ]
  },
  {
   "cell_type": "markdown",
   "metadata": {},
   "source": [
    "Now I just need a to create some histograms. Maybe with some bins etc... "
   ]
  },
  {
   "cell_type": "markdown",
   "metadata": {},
   "source": [
    "I guess we could just make one mega list of these things? so like keep getting the results, then appending them. Then we would do the histogram. "
   ]
  },
  {
   "cell_type": "markdown",
   "metadata": {},
   "source": []
  }
 ],
 "metadata": {
  "kernelspec": {
   "display_name": "CatchALL_20231003",
   "language": "python",
   "name": "python3"
  },
  "language_info": {
   "codemirror_mode": {
    "name": "ipython",
    "version": 3
   },
   "file_extension": ".py",
   "mimetype": "text/x-python",
   "name": "python",
   "nbconvert_exporter": "python",
   "pygments_lexer": "ipython3",
   "version": "3.10.12"
  }
 },
 "nbformat": 4,
 "nbformat_minor": 2
}
