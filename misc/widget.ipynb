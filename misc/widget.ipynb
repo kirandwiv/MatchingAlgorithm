{
 "cells": [
  {
   "cell_type": "code",
   "execution_count": 1,
   "metadata": {},
   "outputs": [],
   "source": [
    "import pandas as pd\n",
    "import numpy as np\n",
    "import matplotlib.pyplot as plt\n",
    "import seaborn as sns\n",
    "import os\n",
    "import ipywidgets as widgets"
   ]
  },
  {
   "cell_type": "code",
   "execution_count": 2,
   "metadata": {},
   "outputs": [
    {
     "ename": "FileNotFoundError",
     "evalue": "[WinError 3] The system cannot find the path specified: 'data/simulations/'",
     "output_type": "error",
     "traceback": [
      "\u001b[1;31m---------------------------------------------------------------------------\u001b[0m",
      "\u001b[1;31mFileNotFoundError\u001b[0m                         Traceback (most recent call last)",
      "\u001b[1;32mc:\\Users\\v-kirdwivedi\\Documents\\GitHub\\MatchingAlgorithm\\misc\\widget.ipynb Cell 2\u001b[0m line \u001b[0;36m3\n\u001b[0;32m      <a href='vscode-notebook-cell:/c%3A/Users/v-kirdwivedi/Documents/GitHub/MatchingAlgorithm/misc/widget.ipynb#W1sZmlsZQ%3D%3D?line=0'>1</a>\u001b[0m \u001b[39mfrom\u001b[39;00m \u001b[39mos\u001b[39;00m \u001b[39mimport\u001b[39;00m listdir\n\u001b[0;32m      <a href='vscode-notebook-cell:/c%3A/Users/v-kirdwivedi/Documents/GitHub/MatchingAlgorithm/misc/widget.ipynb#W1sZmlsZQ%3D%3D?line=1'>2</a>\u001b[0m \u001b[39mfrom\u001b[39;00m \u001b[39mos\u001b[39;00m\u001b[39m.\u001b[39;00m\u001b[39mpath\u001b[39;00m \u001b[39mimport\u001b[39;00m isfile, join\n\u001b[1;32m----> <a href='vscode-notebook-cell:/c%3A/Users/v-kirdwivedi/Documents/GitHub/MatchingAlgorithm/misc/widget.ipynb#W1sZmlsZQ%3D%3D?line=2'>3</a>\u001b[0m onlyfiles \u001b[39m=\u001b[39m [f \u001b[39mfor\u001b[39;00m f \u001b[39min\u001b[39;00m listdir(\u001b[39m'\u001b[39;49m\u001b[39mdata/simulations/\u001b[39;49m\u001b[39m'\u001b[39;49m)]\n\u001b[0;32m      <a href='vscode-notebook-cell:/c%3A/Users/v-kirdwivedi/Documents/GitHub/MatchingAlgorithm/misc/widget.ipynb#W1sZmlsZQ%3D%3D?line=4'>5</a>\u001b[0m \u001b[39mdef\u001b[39;00m \u001b[39mconcat\u001b[39m(list_of_files):\n\u001b[0;32m      <a href='vscode-notebook-cell:/c%3A/Users/v-kirdwivedi/Documents/GitHub/MatchingAlgorithm/misc/widget.ipynb#W1sZmlsZQ%3D%3D?line=5'>6</a>\u001b[0m \u001b[39m    \u001b[39m\u001b[39m'''\u001b[39;00m\n\u001b[0;32m      <a href='vscode-notebook-cell:/c%3A/Users/v-kirdwivedi/Documents/GitHub/MatchingAlgorithm/misc/widget.ipynb#W1sZmlsZQ%3D%3D?line=6'>7</a>\u001b[0m \u001b[39m    Takes a list of files and concatenates them into a single dataframe\u001b[39;00m\n\u001b[0;32m      <a href='vscode-notebook-cell:/c%3A/Users/v-kirdwivedi/Documents/GitHub/MatchingAlgorithm/misc/widget.ipynb#W1sZmlsZQ%3D%3D?line=7'>8</a>\u001b[0m \u001b[39m    '''\u001b[39;00m\n",
      "\u001b[1;31mFileNotFoundError\u001b[0m: [WinError 3] The system cannot find the path specified: 'data/simulations/'"
     ]
    }
   ],
   "source": [
    "from os import listdir\n",
    "from os.path import isfile, join\n",
    "onlyfiles = [f for f in listdir('data/simulations/')]\n",
    "\n",
    "def concat(list_of_files):\n",
    "    '''\n",
    "    Takes a list of files and concatenates them into a single dataframe\n",
    "    '''\n",
    "    li = []\n",
    "    for filename in list_of_files:\n",
    "        df = pd.read_csv('data/simulations/' + filename, index_col=None, header=0)\n",
    "        li.append(df)\n",
    "\n",
    "    frame = pd.concat(li, axis=0, ignore_index=True)\n",
    "    return frame\n"
   ]
  },
  {
   "cell_type": "code",
   "execution_count": null,
   "metadata": {},
   "outputs": [],
   "source": [
    "df = concat(onlyfiles)"
   ]
  },
  {
   "cell_type": "code",
   "execution_count": null,
   "metadata": {},
   "outputs": [],
   "source": [
    "df =df[df['k']!=10]"
   ]
  },
  {
   "cell_type": "code",
   "execution_count": null,
   "metadata": {},
   "outputs": [],
   "source": [
    "grouped = df.groupby(by = ['k', 'n']).mean()"
   ]
  },
  {
   "cell_type": "code",
   "execution_count": null,
   "metadata": {},
   "outputs": [],
   "source": [
    "grouped['formatted'] = np.exp(1/(100*grouped.percent_diff))\n",
    "grouped.reset_index(inplace = True)"
   ]
  },
  {
   "cell_type": "code",
   "execution_count": null,
   "metadata": {},
   "outputs": [
    {
     "data": {
      "text/html": [
       "<div>\n",
       "<style scoped>\n",
       "    .dataframe tbody tr th:only-of-type {\n",
       "        vertical-align: middle;\n",
       "    }\n",
       "\n",
       "    .dataframe tbody tr th {\n",
       "        vertical-align: top;\n",
       "    }\n",
       "\n",
       "    .dataframe thead th {\n",
       "        text-align: right;\n",
       "    }\n",
       "</style>\n",
       "<table border=\"1\" class=\"dataframe\">\n",
       "  <thead>\n",
       "    <tr style=\"text-align: right;\">\n",
       "      <th></th>\n",
       "      <th>k</th>\n",
       "      <th>n</th>\n",
       "      <th>Unnamed: 0</th>\n",
       "      <th>differences</th>\n",
       "      <th>percent_diff</th>\n",
       "      <th>matches</th>\n",
       "      <th>formatted</th>\n",
       "    </tr>\n",
       "  </thead>\n",
       "  <tbody>\n",
       "    <tr>\n",
       "      <th>0</th>\n",
       "      <td>3</td>\n",
       "      <td>100</td>\n",
       "      <td>499.5</td>\n",
       "      <td>0.412</td>\n",
       "      <td>0.004911</td>\n",
       "      <td>84.356</td>\n",
       "      <td>7.661897e+00</td>\n",
       "    </tr>\n",
       "    <tr>\n",
       "      <th>1</th>\n",
       "      <td>3</td>\n",
       "      <td>500</td>\n",
       "      <td>499.5</td>\n",
       "      <td>0.426</td>\n",
       "      <td>0.001015</td>\n",
       "      <td>420.490</td>\n",
       "      <td>1.893336e+04</td>\n",
       "    </tr>\n",
       "    <tr>\n",
       "      <th>2</th>\n",
       "      <td>3</td>\n",
       "      <td>1000</td>\n",
       "      <td>499.5</td>\n",
       "      <td>0.422</td>\n",
       "      <td>0.000502</td>\n",
       "      <td>840.634</td>\n",
       "      <td>4.514321e+08</td>\n",
       "    </tr>\n",
       "    <tr>\n",
       "      <th>3</th>\n",
       "      <td>3</td>\n",
       "      <td>5000</td>\n",
       "      <td>499.5</td>\n",
       "      <td>0.370</td>\n",
       "      <td>0.000088</td>\n",
       "      <td>4203.412</td>\n",
       "      <td>2.054012e+49</td>\n",
       "    </tr>\n",
       "    <tr>\n",
       "      <th>4</th>\n",
       "      <td>3</td>\n",
       "      <td>10000</td>\n",
       "      <td>499.5</td>\n",
       "      <td>0.370</td>\n",
       "      <td>0.000044</td>\n",
       "      <td>8405.988</td>\n",
       "      <td>4.485368e+98</td>\n",
       "    </tr>\n",
       "    <tr>\n",
       "      <th>5</th>\n",
       "      <td>5</td>\n",
       "      <td>100</td>\n",
       "      <td>499.5</td>\n",
       "      <td>3.910</td>\n",
       "      <td>0.042896</td>\n",
       "      <td>91.070</td>\n",
       "      <td>1.262533e+00</td>\n",
       "    </tr>\n",
       "    <tr>\n",
       "      <th>6</th>\n",
       "      <td>5</td>\n",
       "      <td>500</td>\n",
       "      <td>499.5</td>\n",
       "      <td>4.628</td>\n",
       "      <td>0.010174</td>\n",
       "      <td>454.811</td>\n",
       "      <td>2.672287e+00</td>\n",
       "    </tr>\n",
       "    <tr>\n",
       "      <th>7</th>\n",
       "      <td>5</td>\n",
       "      <td>1000</td>\n",
       "      <td>499.5</td>\n",
       "      <td>5.068</td>\n",
       "      <td>0.005576</td>\n",
       "      <td>908.912</td>\n",
       "      <td>6.010430e+00</td>\n",
       "    </tr>\n",
       "    <tr>\n",
       "      <th>8</th>\n",
       "      <td>5</td>\n",
       "      <td>5000</td>\n",
       "      <td>499.5</td>\n",
       "      <td>5.352</td>\n",
       "      <td>0.001178</td>\n",
       "      <td>4542.926</td>\n",
       "      <td>4.852764e+03</td>\n",
       "    </tr>\n",
       "    <tr>\n",
       "      <th>9</th>\n",
       "      <td>5</td>\n",
       "      <td>10000</td>\n",
       "      <td>499.5</td>\n",
       "      <td>5.274</td>\n",
       "      <td>0.000581</td>\n",
       "      <td>9084.155</td>\n",
       "      <td>3.021336e+07</td>\n",
       "    </tr>\n",
       "  </tbody>\n",
       "</table>\n",
       "</div>"
      ],
      "text/plain": [
       "   k      n  Unnamed: 0  differences  percent_diff   matches     formatted\n",
       "0  3    100       499.5        0.412      0.004911    84.356  7.661897e+00\n",
       "1  3    500       499.5        0.426      0.001015   420.490  1.893336e+04\n",
       "2  3   1000       499.5        0.422      0.000502   840.634  4.514321e+08\n",
       "3  3   5000       499.5        0.370      0.000088  4203.412  2.054012e+49\n",
       "4  3  10000       499.5        0.370      0.000044  8405.988  4.485368e+98\n",
       "5  5    100       499.5        3.910      0.042896    91.070  1.262533e+00\n",
       "6  5    500       499.5        4.628      0.010174   454.811  2.672287e+00\n",
       "7  5   1000       499.5        5.068      0.005576   908.912  6.010430e+00\n",
       "8  5   5000       499.5        5.352      0.001178  4542.926  4.852764e+03\n",
       "9  5  10000       499.5        5.274      0.000581  9084.155  3.021336e+07"
      ]
     },
     "execution_count": 9,
     "metadata": {},
     "output_type": "execute_result"
    }
   ],
   "source": [
    "grouped"
   ]
  },
  {
   "cell_type": "code",
   "execution_count": null,
   "metadata": {},
   "outputs": [
    {
     "data": {
      "application/vnd.jupyter.widget-view+json": {
       "model_id": "797b8e764ece49e1a3c0e8156cdbe08b",
       "version_major": 2,
       "version_minor": 0
      },
      "text/plain": [
       "interactive(children=(FloatSlider(value=1.0, description='A', max=1.0, step=0.0001), Output()), _dom_classes=(…"
      ]
     },
     "metadata": {},
     "output_type": "display_data"
    },
    {
     "data": {
      "application/vnd.jupyter.widget-view+json": {
       "model_id": "8319fa6b41c14cc4ba07cc39e0e8288b",
       "version_major": 2,
       "version_minor": 0
      },
      "image/png": "[encoded data removed]",
      "text/html": [
       "\n",
       "            <div style=\"display: inline-block;\">\n",
       "                <div class=\"jupyter-widgets widget-label\" style=\"text-align: center;\">\n",
       "                    Figure\n",
       "                </div>\n",
       "                <img src='data:image/png;base64,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' width=640.0/>\n",
       "            </div>\n",
       "        "
      ],
      "text/plain": [
       "Canvas(toolbar=Toolbar(toolitems=[('Home', 'Reset original view', 'home', 'home'), ('Back', 'Back to previous …"
      ]
     },
     "metadata": {},
     "output_type": "display_data"
    }
   ],
   "source": [
    "%matplotlib widget\n",
    "from ipywidgets import *\n",
    "import ipympl\n",
    "import numpy as np\n",
    "import matplotlib.pyplot as plt\n",
    "\n",
    "data = grouped[grouped['k']==3]['formatted']\n",
    "\n",
    "def f(data, A):\n",
    "    return data**A\n",
    "\n",
    "fig = plt.figure()\n",
    "ax = fig.add_subplot(1, 1, 1)\n",
    "line, = ax.plot(grouped[grouped['k']==3].n, f(data, 1))\n",
    "\n",
    "\n",
    "def update(A = 1):\n",
    "    line.set_ydata(f(data, A))\n",
    "\n",
    "interact(update, A = (0, 1, 0.0001));"
   ]
  },
  {
   "cell_type": "code",
   "execution_count": null,
   "metadata": {},
   "outputs": [],
   "source": []
  }
 ],
 "metadata": {
  "kernelspec": {
   "display_name": "CatchALL",
   "language": "python",
   "name": "python3"
  },
  "language_info": {
   "codemirror_mode": {
    "name": "ipython",
    "version": 3
   },
   "file_extension": ".py",
   "mimetype": "text/x-python",
   "name": "python",
   "nbconvert_exporter": "python",
   "pygments_lexer": "ipython3",
   "version": "3.10.12"
  },
  "orig_nbformat": 4
 },
 "nbformat": 4,
 "nbformat_minor": 2
}
