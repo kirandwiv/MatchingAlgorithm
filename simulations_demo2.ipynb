{
 "cells": [
  {
   "cell_type": "code",
   "execution_count": 1,
   "metadata": {},
   "outputs": [],
   "source": [
    "from funcs import *\n",
    "from multi_funcs import *"
   ]
  },
  {
   "cell_type": "code",
   "execution_count": 64,
   "metadata": {},
   "outputs": [],
   "source": [
    "results = simulate(1000, 5000, 3)"
   ]
  },
  {
   "cell_type": "code",
   "execution_count": 65,
   "metadata": {},
   "outputs": [],
   "source": [
    "def obtain_n_diffs(results):\n",
    "    '''\n",
    "    Takes the results from a batch of simulations\n",
    "    and returns a list of tuples. Where first term is the difference, second term is the length of initial matches. \n",
    "    '''\n",
    "    relevant = [[item[1], item[4]] for item in results]\n",
    "    differences = [(len(find_diff(item[0], item[1])), len(item[0])) for item in relevant]\n",
    "    percent_diff = [item[0]/item[1] for item in differences]\n",
    "    return differences, percent_diff"
   ]
  },
  {
   "cell_type": "code",
   "execution_count": 66,
   "metadata": {},
   "outputs": [],
   "source": [
    "differences, pct_diff = obtain_n_diffs(results)"
   ]
  },
  {
   "cell_type": "code",
   "execution_count": 67,
   "metadata": {},
   "outputs": [],
   "source": [
    "df = make_df(5000, 3, differences, pct_diff, save = True)"
   ]
  },
  {
   "cell_type": "code",
   "execution_count": 68,
   "metadata": {},
   "outputs": [],
   "source": [
    "from os import listdir\n",
    "from os.path import isfile, join\n",
    "onlyfiles = [f for f in listdir('data/simulations/')]"
   ]
  },
  {
   "cell_type": "code",
   "execution_count": 69,
   "metadata": {},
   "outputs": [],
   "source": [
    "def concat(list_of_files):\n",
    "    '''\n",
    "    Takes a list of files and concatenates them into a single dataframe\n",
    "    '''\n",
    "    li = []\n",
    "    for filename in list_of_files:\n",
    "        df = pd.read_csv('data/simulations/' + filename, index_col=None, header=0)\n",
    "        li.append(df)\n",
    "\n",
    "    frame = pd.concat(li, axis=0, ignore_index=True)\n",
    "    return frame"
   ]
  },
  {
   "cell_type": "code",
   "execution_count": 70,
   "metadata": {},
   "outputs": [],
   "source": [
    "df = concat(onlyfiles)"
   ]
  },
  {
   "cell_type": "code",
   "execution_count": 71,
   "metadata": {},
   "outputs": [],
   "source": [
    "import seaborn as sns"
   ]
  },
  {
   "cell_type": "code",
   "execution_count": 72,
   "metadata": {},
   "outputs": [
    {
     "data": {
      "text/html": [
       "<div>\n",
       "<style scoped>\n",
       "    .dataframe tbody tr th:only-of-type {\n",
       "        vertical-align: middle;\n",
       "    }\n",
       "\n",
       "    .dataframe tbody tr th {\n",
       "        vertical-align: top;\n",
       "    }\n",
       "\n",
       "    .dataframe thead th {\n",
       "        text-align: right;\n",
       "    }\n",
       "</style>\n",
       "<table border=\"1\" class=\"dataframe\">\n",
       "  <thead>\n",
       "    <tr style=\"text-align: right;\">\n",
       "      <th></th>\n",
       "      <th>Unnamed: 0</th>\n",
       "      <th>n</th>\n",
       "      <th>k</th>\n",
       "      <th>differences</th>\n",
       "      <th>percent_diff</th>\n",
       "      <th>matches</th>\n",
       "    </tr>\n",
       "  </thead>\n",
       "  <tbody>\n",
       "    <tr>\n",
       "      <th>0</th>\n",
       "      <td>0</td>\n",
       "      <td>10000</td>\n",
       "      <td>3</td>\n",
       "      <td>956</td>\n",
       "      <td>0.113959</td>\n",
       "      <td>8389</td>\n",
       "    </tr>\n",
       "    <tr>\n",
       "      <th>1</th>\n",
       "      <td>1</td>\n",
       "      <td>10000</td>\n",
       "      <td>3</td>\n",
       "      <td>1052</td>\n",
       "      <td>0.125702</td>\n",
       "      <td>8369</td>\n",
       "    </tr>\n",
       "    <tr>\n",
       "      <th>2</th>\n",
       "      <td>2</td>\n",
       "      <td>10000</td>\n",
       "      <td>3</td>\n",
       "      <td>1162</td>\n",
       "      <td>0.137515</td>\n",
       "      <td>8450</td>\n",
       "    </tr>\n",
       "    <tr>\n",
       "      <th>3</th>\n",
       "      <td>3</td>\n",
       "      <td>10000</td>\n",
       "      <td>3</td>\n",
       "      <td>1002</td>\n",
       "      <td>0.119201</td>\n",
       "      <td>8406</td>\n",
       "    </tr>\n",
       "    <tr>\n",
       "      <th>4</th>\n",
       "      <td>4</td>\n",
       "      <td>10000</td>\n",
       "      <td>3</td>\n",
       "      <td>1034</td>\n",
       "      <td>0.122555</td>\n",
       "      <td>8437</td>\n",
       "    </tr>\n",
       "    <tr>\n",
       "      <th>...</th>\n",
       "      <td>...</td>\n",
       "      <td>...</td>\n",
       "      <td>...</td>\n",
       "      <td>...</td>\n",
       "      <td>...</td>\n",
       "      <td>...</td>\n",
       "    </tr>\n",
       "    <tr>\n",
       "      <th>9995</th>\n",
       "      <td>995</td>\n",
       "      <td>500</td>\n",
       "      <td>5</td>\n",
       "      <td>54</td>\n",
       "      <td>0.130120</td>\n",
       "      <td>415</td>\n",
       "    </tr>\n",
       "    <tr>\n",
       "      <th>9996</th>\n",
       "      <td>996</td>\n",
       "      <td>500</td>\n",
       "      <td>5</td>\n",
       "      <td>48</td>\n",
       "      <td>0.116223</td>\n",
       "      <td>413</td>\n",
       "    </tr>\n",
       "    <tr>\n",
       "      <th>9997</th>\n",
       "      <td>997</td>\n",
       "      <td>500</td>\n",
       "      <td>5</td>\n",
       "      <td>94</td>\n",
       "      <td>0.219114</td>\n",
       "      <td>429</td>\n",
       "    </tr>\n",
       "    <tr>\n",
       "      <th>9998</th>\n",
       "      <td>998</td>\n",
       "      <td>500</td>\n",
       "      <td>5</td>\n",
       "      <td>80</td>\n",
       "      <td>0.189573</td>\n",
       "      <td>422</td>\n",
       "    </tr>\n",
       "    <tr>\n",
       "      <th>9999</th>\n",
       "      <td>999</td>\n",
       "      <td>500</td>\n",
       "      <td>5</td>\n",
       "      <td>46</td>\n",
       "      <td>0.109005</td>\n",
       "      <td>422</td>\n",
       "    </tr>\n",
       "  </tbody>\n",
       "</table>\n",
       "<p>10000 rows × 6 columns</p>\n",
       "</div>"
      ],
      "text/plain": [
       "      Unnamed: 0      n  k  differences  percent_diff  matches\n",
       "0              0  10000  3          956      0.113959     8389\n",
       "1              1  10000  3         1052      0.125702     8369\n",
       "2              2  10000  3         1162      0.137515     8450\n",
       "3              3  10000  3         1002      0.119201     8406\n",
       "4              4  10000  3         1034      0.122555     8437\n",
       "...          ...    ... ..          ...           ...      ...\n",
       "9995         995    500  5           54      0.130120      415\n",
       "9996         996    500  5           48      0.116223      413\n",
       "9997         997    500  5           94      0.219114      429\n",
       "9998         998    500  5           80      0.189573      422\n",
       "9999         999    500  5           46      0.109005      422\n",
       "\n",
       "[10000 rows x 6 columns]"
      ]
     },
     "execution_count": 72,
     "metadata": {},
     "output_type": "execute_result"
    }
   ],
   "source": [
    "df"
   ]
  },
  {
   "cell_type": "code",
   "execution_count": 73,
   "metadata": {},
   "outputs": [
    {
     "data": {
      "text/plain": [
       "<seaborn.axisgrid.FacetGrid at 0x2312bd83c10>"
      ]
     },
     "execution_count": 73,
     "metadata": {},
     "output_type": "execute_result"
    },
    {
     "data": {
      "image/png": "[encoded data removed]",
      "text/plain": [
       "<Figure size 557.75x500 with 1 Axes>"
      ]
     },
     "metadata": {},
     "output_type": "display_data"
    }
   ],
   "source": [
    "sns.set_style('darkgrid')\n",
    "g = sns.catplot(x = 'n', y = 'percent_diff', data = df, kind = 'point', errorbar = 'se', hue = 'k')\n",
    "g.set(ylim = (0.1,.15))"
   ]
  },
  {
   "cell_type": "code",
   "execution_count": null,
   "metadata": {},
   "outputs": [],
   "source": []
  }
 ],
 "metadata": {
  "kernelspec": {
   "display_name": "CatchALL",
   "language": "python",
   "name": "python3"
  },
  "language_info": {
   "codemirror_mode": {
    "name": "ipython",
    "version": 3
   },
   "file_extension": ".py",
   "mimetype": "text/x-python",
   "name": "python",
   "nbconvert_exporter": "python",
   "pygments_lexer": "ipython3",
   "version": "3.10.12"
  },
  "orig_nbformat": 4
 },
 "nbformat": 4,
 "nbformat_minor": 2
}
