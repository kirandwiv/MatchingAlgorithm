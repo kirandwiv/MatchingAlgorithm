{
 "cells": [
  {
   "cell_type": "code",
   "execution_count": 4,
   "metadata": {},
   "outputs": [],
   "source": [
    "from funcs import *\n",
    "from multi_funcs import *"
   ]
  },
  {
   "cell_type": "code",
   "execution_count": 5,
   "metadata": {},
   "outputs": [],
   "source": [
    "results = simulate(1000, 100, 3)"
   ]
  },
  {
   "cell_type": "code",
   "execution_count": 7,
   "metadata": {},
   "outputs": [],
   "source": [
    "def obtain_n_diffs(results):\n",
    "    '''\n",
    "    Takes the results from a batch of simulations\n",
    "    and returns a list of tuples. Where first term is the difference, second term is the length of initial matches. \n",
    "    '''\n",
    "    relevant = [[item[1], item[4]] for item in results]\n",
    "    differences = [(len(find_diff(item[0], item[1])), len(item[0])) for item in relevant]\n",
    "    percent_diff = [item[0]/item[1] for item in differences]\n",
    "    return differences, percent_diff"
   ]
  },
  {
   "cell_type": "code",
   "execution_count": 8,
   "metadata": {},
   "outputs": [
    {
     "ename": "TypeError",
     "evalue": "'builtin_function_or_method' object is not subscriptable",
     "output_type": "error",
     "traceback": [
      "\u001b[1;31m---------------------------------------------------------------------------\u001b[0m",
      "\u001b[1;31mTypeError\u001b[0m                                 Traceback (most recent call last)",
      "\u001b[1;32mc:\\Users\\v-kirdwivedi\\Documents\\GitHub\\MatchingAlgorithm\\simulations_demo2.ipynb Cell 4\u001b[0m line \u001b[0;36m1\n\u001b[1;32m----> <a href='vscode-notebook-cell:/c%3A/Users/v-kirdwivedi/Documents/GitHub/MatchingAlgorithm/simulations_demo2.ipynb#W2sZmlsZQ%3D%3D?line=0'>1</a>\u001b[0m differences, pct_diff \u001b[39m=\u001b[39m obtain_n_diffs(results)\n",
      "\u001b[1;32mc:\\Users\\v-kirdwivedi\\Documents\\GitHub\\MatchingAlgorithm\\simulations_demo2.ipynb Cell 4\u001b[0m line \u001b[0;36m7\n\u001b[0;32m      <a href='vscode-notebook-cell:/c%3A/Users/v-kirdwivedi/Documents/GitHub/MatchingAlgorithm/simulations_demo2.ipynb#W2sZmlsZQ%3D%3D?line=1'>2</a>\u001b[0m \u001b[39m\u001b[39m\u001b[39m'''\u001b[39;00m\n\u001b[0;32m      <a href='vscode-notebook-cell:/c%3A/Users/v-kirdwivedi/Documents/GitHub/MatchingAlgorithm/simulations_demo2.ipynb#W2sZmlsZQ%3D%3D?line=2'>3</a>\u001b[0m \u001b[39mTakes the results from a batch of simulations\u001b[39;00m\n\u001b[0;32m      <a href='vscode-notebook-cell:/c%3A/Users/v-kirdwivedi/Documents/GitHub/MatchingAlgorithm/simulations_demo2.ipynb#W2sZmlsZQ%3D%3D?line=3'>4</a>\u001b[0m \u001b[39mand returns a list of tuples. Where first term is the difference, second term is the length of initial matches. \u001b[39;00m\n\u001b[0;32m      <a href='vscode-notebook-cell:/c%3A/Users/v-kirdwivedi/Documents/GitHub/MatchingAlgorithm/simulations_demo2.ipynb#W2sZmlsZQ%3D%3D?line=4'>5</a>\u001b[0m \u001b[39m'''\u001b[39;00m\n\u001b[0;32m      <a href='vscode-notebook-cell:/c%3A/Users/v-kirdwivedi/Documents/GitHub/MatchingAlgorithm/simulations_demo2.ipynb#W2sZmlsZQ%3D%3D?line=5'>6</a>\u001b[0m relevant \u001b[39m=\u001b[39m [[item[\u001b[39m1\u001b[39m], item[\u001b[39m4\u001b[39m]] \u001b[39mfor\u001b[39;00m item \u001b[39min\u001b[39;00m results]\n\u001b[1;32m----> <a href='vscode-notebook-cell:/c%3A/Users/v-kirdwivedi/Documents/GitHub/MatchingAlgorithm/simulations_demo2.ipynb#W2sZmlsZQ%3D%3D?line=6'>7</a>\u001b[0m differences \u001b[39m=\u001b[39m [(\u001b[39mlen\u001b[39m(find_diff(item[\u001b[39m0\u001b[39m], item[\u001b[39m1\u001b[39m])), \u001b[39mlen\u001b[39m[item[\u001b[39m0\u001b[39m]]) \u001b[39mfor\u001b[39;00m item \u001b[39min\u001b[39;00m relevant]\n\u001b[0;32m      <a href='vscode-notebook-cell:/c%3A/Users/v-kirdwivedi/Documents/GitHub/MatchingAlgorithm/simulations_demo2.ipynb#W2sZmlsZQ%3D%3D?line=7'>8</a>\u001b[0m percent_diff \u001b[39m=\u001b[39m [item[\u001b[39m0\u001b[39m]\u001b[39m/\u001b[39mitem[\u001b[39m1\u001b[39m] \u001b[39mfor\u001b[39;00m item \u001b[39min\u001b[39;00m differences]\n\u001b[0;32m      <a href='vscode-notebook-cell:/c%3A/Users/v-kirdwivedi/Documents/GitHub/MatchingAlgorithm/simulations_demo2.ipynb#W2sZmlsZQ%3D%3D?line=8'>9</a>\u001b[0m \u001b[39mreturn\u001b[39;00m differences, percent_diff\n",
      "\u001b[1;32mc:\\Users\\v-kirdwivedi\\Documents\\GitHub\\MatchingAlgorithm\\simulations_demo2.ipynb Cell 4\u001b[0m line \u001b[0;36m7\n\u001b[0;32m      <a href='vscode-notebook-cell:/c%3A/Users/v-kirdwivedi/Documents/GitHub/MatchingAlgorithm/simulations_demo2.ipynb#W2sZmlsZQ%3D%3D?line=1'>2</a>\u001b[0m \u001b[39m\u001b[39m\u001b[39m'''\u001b[39;00m\n\u001b[0;32m      <a href='vscode-notebook-cell:/c%3A/Users/v-kirdwivedi/Documents/GitHub/MatchingAlgorithm/simulations_demo2.ipynb#W2sZmlsZQ%3D%3D?line=2'>3</a>\u001b[0m \u001b[39mTakes the results from a batch of simulations\u001b[39;00m\n\u001b[0;32m      <a href='vscode-notebook-cell:/c%3A/Users/v-kirdwivedi/Documents/GitHub/MatchingAlgorithm/simulations_demo2.ipynb#W2sZmlsZQ%3D%3D?line=3'>4</a>\u001b[0m \u001b[39mand returns a list of tuples. Where first term is the difference, second term is the length of initial matches. \u001b[39;00m\n\u001b[0;32m      <a href='vscode-notebook-cell:/c%3A/Users/v-kirdwivedi/Documents/GitHub/MatchingAlgorithm/simulations_demo2.ipynb#W2sZmlsZQ%3D%3D?line=4'>5</a>\u001b[0m \u001b[39m'''\u001b[39;00m\n\u001b[0;32m      <a href='vscode-notebook-cell:/c%3A/Users/v-kirdwivedi/Documents/GitHub/MatchingAlgorithm/simulations_demo2.ipynb#W2sZmlsZQ%3D%3D?line=5'>6</a>\u001b[0m relevant \u001b[39m=\u001b[39m [[item[\u001b[39m1\u001b[39m], item[\u001b[39m4\u001b[39m]] \u001b[39mfor\u001b[39;00m item \u001b[39min\u001b[39;00m results]\n\u001b[1;32m----> <a href='vscode-notebook-cell:/c%3A/Users/v-kirdwivedi/Documents/GitHub/MatchingAlgorithm/simulations_demo2.ipynb#W2sZmlsZQ%3D%3D?line=6'>7</a>\u001b[0m differences \u001b[39m=\u001b[39m [(\u001b[39mlen\u001b[39m(find_diff(item[\u001b[39m0\u001b[39m], item[\u001b[39m1\u001b[39m])), \u001b[39mlen\u001b[39;49m[item[\u001b[39m0\u001b[39;49m]]) \u001b[39mfor\u001b[39;00m item \u001b[39min\u001b[39;00m relevant]\n\u001b[0;32m      <a href='vscode-notebook-cell:/c%3A/Users/v-kirdwivedi/Documents/GitHub/MatchingAlgorithm/simulations_demo2.ipynb#W2sZmlsZQ%3D%3D?line=7'>8</a>\u001b[0m percent_diff \u001b[39m=\u001b[39m [item[\u001b[39m0\u001b[39m]\u001b[39m/\u001b[39mitem[\u001b[39m1\u001b[39m] \u001b[39mfor\u001b[39;00m item \u001b[39min\u001b[39;00m differences]\n\u001b[0;32m      <a href='vscode-notebook-cell:/c%3A/Users/v-kirdwivedi/Documents/GitHub/MatchingAlgorithm/simulations_demo2.ipynb#W2sZmlsZQ%3D%3D?line=8'>9</a>\u001b[0m \u001b[39mreturn\u001b[39;00m differences, percent_diff\n",
      "\u001b[1;31mTypeError\u001b[0m: 'builtin_function_or_method' object is not subscriptable"
     ]
    }
   ],
   "source": [
    "differences, pct_diff = obtain_n_diffs(results)"
   ]
  },
  {
   "cell_type": "code",
   "execution_count": null,
   "metadata": {},
   "outputs": [],
   "source": []
  }
 ],
 "metadata": {
  "kernelspec": {
   "display_name": "CatchALL",
   "language": "python",
   "name": "python3"
  },
  "language_info": {
   "codemirror_mode": {
    "name": "ipython",
    "version": 3
   },
   "file_extension": ".py",
   "mimetype": "text/x-python",
   "name": "python",
   "nbconvert_exporter": "python",
   "pygments_lexer": "ipython3",
   "version": "3.10.12"
  },
  "orig_nbformat": 4
 },
 "nbformat": 4,
 "nbformat_minor": 2
}
