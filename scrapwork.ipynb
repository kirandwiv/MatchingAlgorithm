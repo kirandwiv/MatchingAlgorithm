{
 "cells": [
  {
   "cell_type": "markdown",
   "metadata": {},
   "source": [
    "Scrap Work"
   ]
  },
  {
   "cell_type": "code",
   "execution_count": 3,
   "metadata": {},
   "outputs": [],
   "source": [
    "import numpy as np\n",
    "import pandas as pd\n",
    "import matplotlib.pyplot as plt\n",
    "from parallel_pandas import ParallelPandas"
   ]
  },
  {
   "cell_type": "code",
   "execution_count": 4,
   "metadata": {},
   "outputs": [],
   "source": [
    "ParallelPandas.initialize(n_cpu=16, split_factor=4, disable_pr_bar=True)"
   ]
  },
  {
   "cell_type": "markdown",
   "metadata": {},
   "source": [
    "Part 1: Building Preferences"
   ]
  },
  {
   "cell_type": "code",
   "execution_count": 11,
   "metadata": {},
   "outputs": [],
   "source": [
    "def mdf_np(n, k = 3):\n",
    "    x = pd.DataFrame(np.random.randint(0, n, (int(n*1.2),k)))\n",
    "    x = x[~(x.apply(lambda row: len(row) != len(set(row)), axis=1))]\n",
    "    if len(x)<n:\n",
    "        return \"Oops\"\n",
    "    else:\n",
    "        x = x.iloc[:n].reset_index(drop=True)\n",
    "        x['student_id'] = x.index\n",
    "        x['applications'] = 0\n",
    "    return x"
   ]
  },
  {
   "cell_type": "code",
   "execution_count": 12,
   "metadata": {},
   "outputs": [],
   "source": [
    "def mdf_yp(n, k = 3):\n",
    "    x = pd.DataFrame(np.random.randint(0, n, (int(n*1.2),k)))\n",
    "    x = x[~(x.p_apply(lambda row: len(row) != len(set(row)), axis=1))]\n",
    "    if len(x)<n:\n",
    "        return \"Oops\"\n",
    "    else:\n",
    "        x = x.iloc[:n].reset_index(drop=True)\n",
    "        x['student_id'] = x.index\n",
    "        x['applications'] = 0\n",
    "    return x"
   ]
  },
  {
   "cell_type": "code",
   "execution_count": 8,
   "metadata": {},
   "outputs": [],
   "source": [
    "import time"
   ]
  },
  {
   "cell_type": "code",
   "execution_count": 20,
   "metadata": {},
   "outputs": [],
   "source": [
    "def timeit(func):\n",
    "    def wrapper(*args, **kwargs):\n",
    "        start = time.time()\n",
    "        func(*args, **kwargs)\n",
    "        end = time.time()\n",
    "        return end-start\n",
    "    return wrapper"
   ]
  },
  {
   "cell_type": "code",
   "execution_count": 21,
   "metadata": {},
   "outputs": [],
   "source": [
    "@timeit\n",
    "def test_np(n):\n",
    "    mdf_np(n)"
   ]
  },
  {
   "cell_type": "code",
   "execution_count": 25,
   "metadata": {},
   "outputs": [],
   "source": [
    "t_np = [test_np(n) for n in [1000, 10000, 100000, 1000000, 10000000]]"
   ]
  },
  {
   "cell_type": "code",
   "execution_count": 24,
   "metadata": {},
   "outputs": [],
   "source": [
    "@timeit\n",
    "def test_yp(n):\n",
    "    mdf_yp(n)"
   ]
  },
  {
   "cell_type": "code",
   "execution_count": 26,
   "metadata": {},
   "outputs": [],
   "source": [
    "t_yp = [test_yp(n) for n in [1000, 10000, 100000, 1000000, 10000000]]"
   ]
  },
  {
   "cell_type": "code",
   "execution_count": 31,
   "metadata": {},
   "outputs": [
    {
     "data": {
      "text/plain": [
       "array([  3.39505887,   2.41605067,   1.82747173,  -3.01610374,\n",
       "       -51.41541505])"
      ]
     },
     "execution_count": 31,
     "metadata": {},
     "output_type": "execute_result"
    }
   ],
   "source": [
    "np.array(t_yp)-np.array(t_np)"
   ]
  },
  {
   "cell_type": "code",
   "execution_count": 35,
   "metadata": {},
   "outputs": [
    {
     "data": {
      "text/plain": [
       "<matplotlib.legend.Legend at 0x26200f2f490>"
      ]
     },
     "execution_count": 35,
     "metadata": {},
     "output_type": "execute_result"
    },
    {
     "data": {
      "image/png": "[encoded data removed]",
      "text/plain": [
       "<Figure size 640x480 with 1 Axes>"
      ]
     },
     "metadata": {},
     "output_type": "display_data"
    }
   ],
   "source": [
    "fig, ax = plt.subplots()\n",
    "ax.plot(np.log10([1000, 10000, 100000, 1000000, 10000000]), t_np, label='np')\n",
    "ax.plot(np.log10([1000, 10000, 100000, 1000000, 10000000]), t_yp, label='yp')\n",
    "ax.yaxis.set_label_text('Time (s)')\n",
    "ax.xaxis.set_label_text('log10(n)')\n",
    "ax.legend(['no parallelization', 'parallelization'])"
   ]
  },
  {
   "cell_type": "markdown",
   "metadata": {},
   "source": [
    "Gale Shapley Algorithm"
   ]
  },
  {
   "cell_type": "code",
   "execution_count": 68,
   "metadata": {},
   "outputs": [],
   "source": [
    "def find_matches(sp):\n",
    "    '''\n",
    "    This function takes a dataframe of student preferences and returns a dataframe of matches.\n",
    "    '''\n",
    "    sp2 = sp[[0, 'student_id']] ## take the two relevant columns, chosen schools and student IDs\n",
    "    matches = sp2.sample(frac=1).drop_duplicates(subset=0) ## Will have to reflect the Bayesian nature of this. \n",
    "    ## Save the number of applications for each school and then weigh students probabilities by the number of applications. \n",
    "    return matches ## Returns our first round of matches. "
   ]
  },
  {
   "cell_type": "code",
   "execution_count": 69,
   "metadata": {},
   "outputs": [],
   "source": [
    "def create_mask(sp3, sp):\n",
    "    '''\n",
    "    This function takes a dataframe of matches and a dataframe of student preferences and returns a mask of students who have not been assigned to a school.\n",
    "    '''\n",
    "    mask = ~(np.logical_or(sp['student_id'].isin(sp3['student_id']), sp['applications'] == 3)) ## creates a mask of all students who have not been assigned to a school. \n",
    "    return mask ## The mask gives all values that should be shifted over."
   ]
  },
  {
   "cell_type": "code",
   "execution_count": 70,
   "metadata": {},
   "outputs": [],
   "source": [
    "def shift(sp, mask, k = 3):\n",
    "    '''\n",
    "    This function takes a dataframe of student preferences, a mask of students who have not been assigned to a school, and the number of schools to apply to. \n",
    "    It returns an updated dataframe of student preferences. In this dataframe we have shifted over the values for students who have not been assigned to a school.\n",
    "    We also update the number of failed applications each student has made.\n",
    "    '''\n",
    "    for i in np.arange(k-1):\n",
    "        sp.loc[mask, i] = sp.loc[mask, i+1] # Shifts over all the values for relevant columns. \n",
    "    sp.loc[mask, 'applications'] += 1 ## Updates to new values.\n",
    "    return sp ## Returns the updated dataframe."
   ]
  },
  {
   "cell_type": "code",
   "execution_count": 88,
   "metadata": {},
   "outputs": [],
   "source": [
    "def run_gale_shapley(sp):\n",
    "    '''Runs the Gale-Shapley Algorithm for a particular dataframe'''\n",
    "    r_apps = 0\n",
    "    i=0\n",
    "    mask = [1]\n",
    "    while r_apps < 3 and sum(mask) > 0: ## note that there are two ways to end the cycle. 1 all unmatched students have applied to 3 schools. 2. There are no unmatched students.\n",
    "        matches = find_matches(sp) ## Finds the first round of matches.\n",
    "        mask = create_mask(matches, sp) ## Creates a mask of students who have not been assigned to a school.\n",
    "        r_apps = sp.loc[mask, 'applications'].min() < 3 ## Check, if all rejects have already applied to three schools, we terminate. \n",
    "        sp = shift(sp, mask) ## Shifts over the values for students who have not been assigned to a school.\n",
    "        i+=1\n",
    "    return sp, i"
   ]
  },
  {
   "cell_type": "code",
   "execution_count": 94,
   "metadata": {},
   "outputs": [],
   "source": [
    "sp = mdf_np(100000)"
   ]
  },
  {
   "cell_type": "code",
   "execution_count": 95,
   "metadata": {},
   "outputs": [],
   "source": [
    "sp, i = run_gale_shapley(sp)"
   ]
  },
  {
   "cell_type": "code",
   "execution_count": 96,
   "metadata": {},
   "outputs": [
    {
     "data": {
      "text/plain": [
       "65"
      ]
     },
     "execution_count": 96,
     "metadata": {},
     "output_type": "execute_result"
    }
   ],
   "source": [
    "i"
   ]
  },
  {
   "cell_type": "markdown",
   "metadata": {},
   "source": [
    "Finding ways to speed this up. The costliest part is the isin lookup. "
   ]
  },
  {
   "cell_type": "code",
   "execution_count": 85,
   "metadata": {},
   "outputs": [
    {
     "name": "stdout",
     "output_type": "stream",
     "text": [
      "0.22088241577148438\n"
     ]
    }
   ],
   "source": [
    "start = time.time()\n",
    "matches = find_matches(sp)\n",
    "end = time.time()\n",
    "print(end-start)"
   ]
  },
  {
   "cell_type": "code",
   "execution_count": 86,
   "metadata": {},
   "outputs": [
    {
     "name": "stdout",
     "output_type": "stream",
     "text": [
      "0.07897782325744629\n"
     ]
    }
   ],
   "source": [
    "start = time.time()\n",
    "create_mask(matches, sp)\n",
    "end = time.time()\n",
    "print(end-start)"
   ]
  },
  {
   "cell_type": "markdown",
   "metadata": {},
   "source": [
    "Possibly could do something with intersect 1D, which gives the index of schools that get a match? The part that actually takes time is the groupby. "
   ]
  },
  {
   "cell_type": "code",
   "execution_count": 64,
   "metadata": {},
   "outputs": [],
   "source": [
    "sp2 = sp[[0, 'student_id']]"
   ]
  },
  {
   "cell_type": "code",
   "execution_count": 67,
   "metadata": {},
   "outputs": [
    {
     "data": {
      "text/html": [
       "<div>\n",
       "<style scoped>\n",
       "    .dataframe tbody tr th:only-of-type {\n",
       "        vertical-align: middle;\n",
       "    }\n",
       "\n",
       "    .dataframe tbody tr th {\n",
       "        vertical-align: top;\n",
       "    }\n",
       "\n",
       "    .dataframe thead th {\n",
       "        text-align: right;\n",
       "    }\n",
       "</style>\n",
       "<table border=\"1\" class=\"dataframe\">\n",
       "  <thead>\n",
       "    <tr style=\"text-align: right;\">\n",
       "      <th></th>\n",
       "      <th>0</th>\n",
       "      <th>student_id</th>\n",
       "    </tr>\n",
       "  </thead>\n",
       "  <tbody>\n",
       "    <tr>\n",
       "      <th>561714</th>\n",
       "      <td>39106</td>\n",
       "      <td>561714</td>\n",
       "    </tr>\n",
       "    <tr>\n",
       "      <th>341407</th>\n",
       "      <td>38414</td>\n",
       "      <td>341407</td>\n",
       "    </tr>\n",
       "    <tr>\n",
       "      <th>426288</th>\n",
       "      <td>916046</td>\n",
       "      <td>426288</td>\n",
       "    </tr>\n",
       "    <tr>\n",
       "      <th>459376</th>\n",
       "      <td>683316</td>\n",
       "      <td>459376</td>\n",
       "    </tr>\n",
       "    <tr>\n",
       "      <th>227136</th>\n",
       "      <td>670418</td>\n",
       "      <td>227136</td>\n",
       "    </tr>\n",
       "    <tr>\n",
       "      <th>...</th>\n",
       "      <td>...</td>\n",
       "      <td>...</td>\n",
       "    </tr>\n",
       "    <tr>\n",
       "      <th>484927</th>\n",
       "      <td>120238</td>\n",
       "      <td>484927</td>\n",
       "    </tr>\n",
       "    <tr>\n",
       "      <th>28667</th>\n",
       "      <td>874944</td>\n",
       "      <td>28667</td>\n",
       "    </tr>\n",
       "    <tr>\n",
       "      <th>336080</th>\n",
       "      <td>135015</td>\n",
       "      <td>336080</td>\n",
       "    </tr>\n",
       "    <tr>\n",
       "      <th>820448</th>\n",
       "      <td>491131</td>\n",
       "      <td>820448</td>\n",
       "    </tr>\n",
       "    <tr>\n",
       "      <th>145497</th>\n",
       "      <td>927030</td>\n",
       "      <td>145497</td>\n",
       "    </tr>\n",
       "  </tbody>\n",
       "</table>\n",
       "<p>632169 rows × 2 columns</p>\n",
       "</div>"
      ],
      "text/plain": [
       "             0  student_id\n",
       "561714   39106      561714\n",
       "341407   38414      341407\n",
       "426288  916046      426288\n",
       "459376  683316      459376\n",
       "227136  670418      227136\n",
       "...        ...         ...\n",
       "484927  120238      484927\n",
       "28667   874944       28667\n",
       "336080  135015      336080\n",
       "820448  491131      820448\n",
       "145497  927030      145497\n",
       "\n",
       "[632169 rows x 2 columns]"
      ]
     },
     "execution_count": 67,
     "metadata": {},
     "output_type": "execute_result"
    }
   ],
   "source": [
    "sp2.sample(frac=1).drop_duplicates(subset=0)"
   ]
  },
  {
   "cell_type": "markdown",
   "metadata": {},
   "source": []
  }
 ],
 "metadata": {
  "kernelspec": {
   "display_name": "CatchALL",
   "language": "python",
   "name": "python3"
  },
  "language_info": {
   "codemirror_mode": {
    "name": "ipython",
    "version": 3
   },
   "file_extension": ".py",
   "mimetype": "text/x-python",
   "name": "python",
   "nbconvert_exporter": "python",
   "pygments_lexer": "ipython3",
   "version": "3.10.12"
  },
  "orig_nbformat": 4
 },
 "nbformat": 4,
 "nbformat_minor": 2
}
